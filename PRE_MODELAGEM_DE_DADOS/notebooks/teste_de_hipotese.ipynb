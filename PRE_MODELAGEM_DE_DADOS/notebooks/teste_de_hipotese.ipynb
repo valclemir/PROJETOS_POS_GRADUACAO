{
 "cells": [
  {
   "cell_type": "markdown",
   "metadata": {},
   "source": [
    "# Pré-Modelagem em Ciência de Dados\n",
    "Prof. Rilder de Sousa Pires<br>\n",
    "MBA em Ciência de Dados<br>\n",
    "\n",
    "Laboratório de Ciência de Dados e Inteligência Artificial (LCDIA)<br>\n",
    "Universidade de Fortaleza"
   ]
  },
  {
   "cell_type": "markdown",
   "metadata": {},
   "source": [
    "## Testes de hipótese\n",
    "\n",
    "São testes estatísticos que permitem tomar uma decisão entre duas ou mais hipóteses utilizando os dados de um experimento.\n",
    "\n",
    "<b>Conceitos:</b><br>\n",
    "* H0: Hipótese Nula. É a hipótese trivial sobre os dados.\n",
    "* H1: Hipótese Alternativa. Se rejeitarmos H0, aceitamos essa alternativa como a melhor explicação para o dado.\n",
    "* Teste estatístico. Calculado dos dados.\n",
    "* $\\alpha$: Nível de significâcia: a probabilidade de se rejeitar a hipótese nula quando ela é verdadeira.\n",
    "\n",
    "<b>Tipos de Teste:</b><br>\n",
    "* Unicaudais: Onde escolhemos uma direção para o teste. \"significantemente maior\"/\"significantemente menor\"\n",
    "* Bicaudais: Onde o teste é feito nas duas direções. \"significantemente diferente\"\n",
    "\n",
    "OBS: O teste vai permitir que aceitemos uma hipótese assumindo um nível de significância pre-estabelecido."
   ]
  },
  {
   "cell_type": "markdown",
   "metadata": {},
   "source": [
    "### Valor-p (p-value)\n",
    "\n",
    "O valor-p é a probabilidade de se obter um resultado mais extremo que o observado, assumindo-se que a hipotese nula é correta.\n",
    "\n",
    "Num teste de hipótese o valor-p é comparado com $\\alpha$ para se rejeitar a hipótese nula.\n",
    "> $\\alpha$: Nível de significâcia: a probabilidade de se rejeitar a hipótese nula quando ela é verdadeira.\n",
    "\n",
    "<b>[Erro comum:]</b> Considerar o valor-p como sendo a probabilidade que a hipotese nula seja verdadeira."
   ]
  },
  {
   "cell_type": "markdown",
   "metadata": {},
   "source": [
    "### Tipos de Erro\n",
    "\n",
    "Um teste estatístico não garante que a hipótese HA é verdadeira.\n",
    "\n",
    "|                  | H0 é verdadeira |   H0 é falsa   |\n",
    "|------------------|-----------------|----------------|\n",
    "|Rejeita-se H0     |  Erro (tipo I)  |    sem erro    |\n",
    "|Não se rejeita H0 |    sem erro     | Erro (tipo II) |\n",
    "\n",
    "...mas estabelece que H0 pode ser regeitada dentro de um dado nível de significância pre-estabelecido. \n"
   ]
  },
  {
   "cell_type": "markdown",
   "metadata": {},
   "source": [
    "### 2.1 Teste t:\n",
    "É um teste onde se verifica se a variável $t$ segue uma distribuição \"t de Student\".\n",
    "\n",
    "Formula para $t$:\n",
    "> $\\displaystyle t = \\frac{\\overline{X}-\\overline{Y}}{s_p}$\n",
    "\n",
    "onde $s_p$ é o erro padrão agrupado\n",
    "> $\\displaystyle s_p=\\sqrt{\\frac{\\sigma_X^2}{N_X}+\\frac{\\sigma_Y^2}{N_Y}}$\n",
    "\n",
    "#### Distribuição t de Student\n",
    "Forma:\n",
    "> $\\displaystyle f(t)=\\frac{ \\Gamma \\left(\\frac{\\nu+1}{2}\\right) }{ \\sqrt{\\nu\\pi} \\Gamma\\left(\\frac{\\nu}{2}\\right) }\\left(1+\\frac{t^2}{\\nu}\\right)^{-\\left(\\frac{\\nu+1}{2}\\right)}$\n",
    "\n",
    "onde\n",
    "> $\\displaystyle \\nu=\\frac{ \\left( \\frac{\\sigma_X^2}{N_X} + \\frac{\\sigma_Y^2}{N_Y} \\right)^2}{ \\frac{\\sigma_X^4}{N_X^2(N_X-1)} + \\frac{\\sigma_Y^4}{N_Y^2(N_Y-1)} }$\n",
    "\n",
    "são os graus de liberdade da distribuição."
   ]
  },
  {
   "cell_type": "markdown",
   "metadata": {},
   "source": [
    "<img src=\"figs/teste-t.png\" style=\"width:50%\">"
   ]
  },
  {
   "cell_type": "markdown",
   "metadata": {},
   "source": [
    "[Exemplo]\n",
    "\n",
    "Suponha que queremos comparar um tratmento médico para aumentar a expectativa de vida dos pacientes que pussuem uma doença.\n",
    "\n",
    "O pocedimento consiste em oferecer o tratamento para  𝑛  pessoas e um placebo para  𝑚  pessoas. Seja  𝑋1,…,𝑋𝑛  o número de anos que as pessoas vivem após receber o tratamento e  𝑌1,…,𝑌𝑚  o número de anos que as pessoas vivem após receber o placebo.\n",
    "\n",
    "A região de rejeição é determinada pelo limiar  𝑡0  onde  𝑃(𝑡>𝑡0)=𝛼"
   ]
  },
  {
   "cell_type": "code",
   "execution_count": 1,
   "metadata": {},
   "outputs": [
    {
     "name": "stdout",
     "output_type": "stream",
     "text": [
      "t = 4.538052008440666\n",
      "p_value = 3.007626717079931e-06 \n",
      "\n",
      "Rejeitamos H0. H1 passou no teste.\n",
      "\n",
      "<X> = 32.226103607721654 anos\n",
      "<Y> = 30.1947594933172 anos\n"
     ]
    }
   ],
   "source": [
    "import numpy as np\n",
    "import matplotlib.pyplot as plt\n",
    "from scipy import stats\n",
    "\n",
    "# Número de anos que as pessoas vivem após receber o tratamento\n",
    "n=1000;\n",
    "X = np.random.normal(32.0,10.0,n)\n",
    "#print(\"X[ 10 /\",n,\"]= \",X[0:10])\n",
    "\n",
    "# Número de anos que as pessoas vivem após receber o placebo\n",
    "m=1000;\n",
    "Y = np.random.normal(30.0,10.0,m)\n",
    "#print(\"Y[ 10 /\",m,\"]= \",Y[0:10],\"\\n\")\n",
    "\n",
    "alpha=0.01\n",
    "\n",
    "t, p_value = stats.ttest_ind(X,Y,alternative=\"greater\",equal_var = False)\n",
    "print(\"t =\",t)\n",
    "print(\"p_value =\",p_value,\"\\n\")\n",
    "\n",
    "if p_value<alpha:\n",
    "    print(\"Rejeitamos H0. H1 passou no teste.\")\n",
    "else:\n",
    "    print(\"Não rejeitamos H0. H1 não passou no teste.\")\n",
    "\n",
    "print(\"\\n<X> =\",np.mean(X),\"anos\")\n",
    "print(\"<Y> =\",np.mean(Y),\"anos\")"
   ]
  },
  {
   "cell_type": "markdown",
   "metadata": {},
   "source": [
    "### 2.2 Teste Z:\n",
    "É um teste onde se verifica se a variável $Z$ segue uma distribuição normal.\n",
    "\n",
    "Para amostras grandes, devido ao <b>teorema do limite central</b> considera-se que $Z$ é distribuída aproximadamente de forma normal.\n",
    "\n",
    "Formula para $Z$:\n",
    "> $\\displaystyle Z = \\frac{\\overline{X}-\\mu}{\\text{SE}}$\n",
    "\n",
    "onde $\\mu$ é a média da distribuição e SE$\\displaystyle=\\frac{\\sigma}{\\sqrt{N}}$ é erro padrão.\n",
    "\n",
    "OBS: Esse teste é utilizado quando a média e o desvio padrão da distribuição são conhecidos.\n",
    "\n",
    "#### Teorema do Limite Central:\n",
    "\n",
    "O Teorema do Limite Central afirma que se somarmos várias variáveis obtidadas independentemente da mesma distribuição o resultado será distribuído de forma aproximadamente normal."
   ]
  },
  {
   "cell_type": "markdown",
   "metadata": {},
   "source": [
    "<b>[Exemplo:]</b><br> O nível de cálcio no sangue de adultos jovens saudáveis varia com uma média $\\mu=$9.5mg/dL e $\\sigma=0.4$mg/dL. Testes clínicos foram feitos para medir o nível de cálcio no sangue de 180 mulheres grávidas na zona rural do Ceará e foi encontrado $\\overline{X}$ =9.57mg/dL. Isso é um indicativo que o nível médio de cálcio nessa população difere de 9.5mg/dL?"
   ]
  },
  {
   "cell_type": "code",
   "execution_count": 2,
   "metadata": {},
   "outputs": [
    {
     "name": "stdout",
     "output_type": "stream",
     "text": [
      "Xm= 9.57 \n",
      "\n",
      "[ 9.66  9.85 10.11  9.12 10.08  9.38  9.47  8.82  9.69  9.97]\n",
      "\n",
      "p_value= 0.022429583185323454 \n",
      "\n",
      "Rejeitamos H0. H1 passou no teste.\n",
      "\n",
      "Z= 2.2830133298082824\n"
     ]
    }
   ],
   "source": [
    "import numpy as np\n",
    "import statsmodels.stats.weightstats as sm\n",
    "\n",
    "X=np.loadtxt(fname='data/calcio.csv', skiprows=1)\n",
    "\n",
    "mu=9.5\n",
    "sigma=0.4\n",
    "\n",
    "alpha=0.05\n",
    "\n",
    "Xm=X.mean()\n",
    "print(\"Xm=\",Xm,\"\\n\")\n",
    "print(X[0:10])\n",
    "\n",
    "ztest,p_value = sm.ztest(X,value=mu,alternative='two-sided',ddof=0)\n",
    "print(\"\\np_value=\",float(p_value),\"\\n\")\n",
    "\n",
    "if p_value<alpha:\n",
    "    print(\"Rejeitamos H0. H1 passou no teste.\")\n",
    "else:\n",
    "    print(\"Não rejeitamos H0. H1 não passou no teste.\")\n",
    "\n",
    "print(\"\\nZ=\",ztest)\n",
    "\n",
    "# s=X.std()/np.sqrt(len(X))\n",
    "# Z=(Xm-mu)/s\n",
    "# print(\"Z*=\",Z)"
   ]
  },
  {
   "cell_type": "code",
   "execution_count": null,
   "metadata": {},
   "outputs": [],
   "source": []
  }
 ],
 "metadata": {
  "kernelspec": {
   "display_name": "Python 3 (ipykernel)",
   "language": "python",
   "name": "python3"
  },
  "language_info": {
   "codemirror_mode": {
    "name": "ipython",
    "version": 3
   },
   "file_extension": ".py",
   "mimetype": "text/x-python",
   "name": "python",
   "nbconvert_exporter": "python",
   "pygments_lexer": "ipython3",
   "version": "3.10.2"
  }
 },
 "nbformat": 4,
 "nbformat_minor": 2
}
