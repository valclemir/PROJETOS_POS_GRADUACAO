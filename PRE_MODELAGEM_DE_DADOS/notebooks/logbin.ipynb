{
 "cells": [
  {
   "cell_type": "markdown",
   "id": "a7252fe1",
   "metadata": {},
   "source": [
    "# Pré-Modelagem em Ciência de Dados\n",
    "Prof. Rilder de Sousa Pires<br>\n",
    "MBA em Ciência de Dados<br>\n",
    "\n",
    "Laboratório de Ciência de Dados e Inteligência Artificial (LCDIA)<br>\n",
    "Universidade de Fortaleza"
   ]
  },
  {
   "cell_type": "markdown",
   "id": "8693c1aa",
   "metadata": {},
   "source": [
    "## Binagem Logarítmica\n",
    "\n",
    "Em vez de escolher bins uniformemente espaçados, para algumas aplicações é preferível variar a largura do bins. Isso evita bins com baixas contagens.\n",
    "\n",
    "https://en.wikipedia.org/wiki/Histogram#Variable_bin_widths\n",
    "\n",
    "Esse artifício é especialmente útil em distribuições de cauda longa. Neste caso, uma opção interessante para espaçamento entre bins é a Binagem Logarítmica.\n",
    "\n",
    "Este caso é ilustrado no exemplo abaixo:"
   ]
  },
  {
   "cell_type": "code",
   "execution_count": 1,
   "id": "9387dbc9",
   "metadata": {},
   "outputs": [
    {
     "data": {
      "image/png": "[encoded data removed]",
      "text/plain": [
       "<Figure size 432x288 with 1 Axes>"
      ]
     },
     "metadata": {
      "needs_background": "light"
     },
     "output_type": "display_data"
    }
   ],
   "source": [
    "import numpy as np\n",
    "import pandas as pd\n",
    "import matplotlib.pyplot as plt\n",
    "\n",
    "df=pd.read_csv('data/exemplos.csv')\n",
    "\n",
    "X = np.array(df['data'])\n",
    "nbins = 12\n",
    "\n",
    "# print(X.min(),X.max())\n",
    "\n",
    "#-----------------------------------\n",
    "\n",
    "# #linear binning\n",
    "# bin_edges=np.linspace(X.min(),X.max(),nbins)\n",
    "\n",
    "#-----------------------------------\n",
    "\n",
    "#log binning\n",
    "bin_edges = np.linspace(1,nbins,nbins)\n",
    "bin_edges = np.power(2.0,bin_edges)\n",
    "bin_edges = X.max()*bin_edges/bin_edges.max()\n",
    "# print(bin_edges)\n",
    "\n",
    "#-----------------------------------\n",
    "\n",
    "alpha=0.8\n",
    "xm=1000\n",
    "Xp = np.linspace(2000,150000,200)\n",
    "Yp = (alpha*np.power(xm,alpha))/np.power(Xp,alpha+1)\n",
    "plt.hist(X,bins=bin_edges,density=True)\n",
    "plt.plot(Xp,Yp,'r',lw=2)\n",
    "\n",
    "plt.xlabel(\"v1\")\n",
    "plt.ylabel(\"f(v1)\")\n",
    "\n",
    "plt.yscale('log')\n",
    "plt.xscale('log')\n",
    "\n",
    "plt.show()\n"
   ]
  },
  {
   "cell_type": "code",
   "execution_count": null,
   "id": "251c650b",
   "metadata": {},
   "outputs": [],
   "source": []
  }
 ],
 "metadata": {
  "kernelspec": {
   "display_name": "Python 3 (ipykernel)",
   "language": "python",
   "name": "python3"
  },
  "language_info": {
   "codemirror_mode": {
    "name": "ipython",
    "version": 3
   },
   "file_extension": ".py",
   "mimetype": "text/x-python",
   "name": "python",
   "nbconvert_exporter": "python",
   "pygments_lexer": "ipython3",
   "version": "3.10.2"
  }
 },
 "nbformat": 4,
 "nbformat_minor": 5
}
