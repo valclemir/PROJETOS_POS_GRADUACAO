{
 "cells": [
  {
   "cell_type": "markdown",
   "metadata": {},
   "source": [
    "<img src=\"https://cienciadedadosnaveia.com/wp-content/uploads/2021/04/logo_CDV.png\" width=\"200px\">"
   ]
  },
  {
   "cell_type": "markdown",
   "metadata": {},
   "source": [
    "<h1>Introdução à álgebra linear com NumPy</h1>"
   ]
  },
  {
   "cell_type": "markdown",
   "metadata": {},
   "source": [
    "---"
   ]
  },
  {
   "cell_type": "markdown",
   "metadata": {},
   "source": [
    "<h1>Sumário</h1>\n",
    "<h2>1. Introdução à biblioteca NumPy</h2>\n",
    "<h2>2. Interpretando equações matemáticas com NumPy</h2>\n",
    "<h2>3. Álgebra linear com NumPy</h2>"
   ]
  },
  {
   "cell_type": "markdown",
   "metadata": {},
   "source": [
    "---"
   ]
  },
  {
   "cell_type": "markdown",
   "metadata": {},
   "source": [
    "<h1>1. Introdução à biblioteca Numpy</h1>"
   ]
  },
  {
   "cell_type": "markdown",
   "metadata": {},
   "source": [
    "---"
   ]
  },
  {
   "cell_type": "markdown",
   "metadata": {},
   "source": [
    "<h2>1.1. Introdução</h2>"
   ]
  },
  {
   "cell_type": "markdown",
   "metadata": {},
   "source": [
    "### Importando a biblioteca Numpy:"
   ]
  },
  {
   "cell_type": "code",
   "execution_count": null,
   "metadata": {},
   "outputs": [],
   "source": [
    "import numpy as np"
   ]
  },
  {
   "cell_type": "markdown",
   "metadata": {},
   "source": [
    "### Criando um array de uma dimensão:"
   ]
  },
  {
   "cell_type": "code",
   "execution_count": null,
   "metadata": {},
   "outputs": [],
   "source": [
    "one_dim = np.array([1,2,3,4])\n",
    "one_dim"
   ]
  },
  {
   "cell_type": "markdown",
   "metadata": {},
   "source": [
    "### Criando um array de duas dimensões:"
   ]
  },
  {
   "cell_type": "code",
   "execution_count": null,
   "metadata": {},
   "outputs": [],
   "source": [
    "two_dim = np.array([(1,2,3), (4,5,6)])\n",
    "two_dim"
   ]
  },
  {
   "cell_type": "markdown",
   "metadata": {},
   "source": [
    "### Imprimindo as dimensões dos arrays:"
   ]
  },
  {
   "cell_type": "code",
   "execution_count": null,
   "metadata": {},
   "outputs": [],
   "source": [
    "print(one_dim.ndim)\n",
    "print(two_dim.ndim)"
   ]
  },
  {
   "cell_type": "markdown",
   "metadata": {},
   "source": [
    "### Criando um array de números aleatórios:"
   ]
  },
  {
   "cell_type": "code",
   "execution_count": null,
   "metadata": {},
   "outputs": [],
   "source": [
    "np.random.random((8,3))"
   ]
  },
  {
   "cell_type": "markdown",
   "metadata": {},
   "source": [
    "### Criando um array com valores esparsos iniciando com o valor 10, menor que 50 e incrementando de 5 em 5:"
   ]
  },
  {
   "cell_type": "code",
   "execution_count": null,
   "metadata": {},
   "outputs": [],
   "source": [
    "np.arange(10,50,5)"
   ]
  },
  {
   "cell_type": "markdown",
   "metadata": {},
   "source": [
    "### Criando um array linear de 0 a 5 de no máximo 9 elementos. Espaçamento igual ..."
   ]
  },
  {
   "cell_type": "code",
   "execution_count": null,
   "metadata": {},
   "outputs": [],
   "source": [
    "np.linspace(0,5,10)"
   ]
  },
  {
   "cell_type": "markdown",
   "metadata": {},
   "source": [
    "### Cria um array de valores zero"
   ]
  },
  {
   "cell_type": "code",
   "execution_count": null,
   "metadata": {},
   "outputs": [],
   "source": [
    "np.ones((3,4))"
   ]
  },
  {
   "cell_type": "markdown",
   "metadata": {},
   "source": [
    "### Número de linhas e colunas do array"
   ]
  },
  {
   "cell_type": "code",
   "execution_count": null,
   "metadata": {},
   "outputs": [],
   "source": [
    "two_dim.shape"
   ]
  },
  {
   "cell_type": "markdown",
   "metadata": {},
   "source": [
    "---"
   ]
  },
  {
   "cell_type": "markdown",
   "metadata": {},
   "source": [
    "<h2>1.2. Acessando posições do array</h2>"
   ]
  },
  {
   "cell_type": "markdown",
   "metadata": {},
   "source": [
    "### Gerando um array aleatório:"
   ]
  },
  {
   "cell_type": "code",
   "execution_count": null,
   "metadata": {},
   "outputs": [],
   "source": [
    "rand_array = np.random.random([7,3])"
   ]
  },
  {
   "cell_type": "code",
   "execution_count": null,
   "metadata": {},
   "outputs": [],
   "source": [
    "rand_array"
   ]
  },
  {
   "cell_type": "markdown",
   "metadata": {},
   "source": [
    "### Imprimindo a <i>i</i>-ésima linha do array:"
   ]
  },
  {
   "cell_type": "code",
   "execution_count": null,
   "metadata": {},
   "outputs": [],
   "source": [
    "rand_array[2]"
   ]
  },
  {
   "cell_type": "markdown",
   "metadata": {},
   "source": [
    "### Imprimindo elemento <i>(i,j)</i> do array:"
   ]
  },
  {
   "cell_type": "code",
   "execution_count": null,
   "metadata": {},
   "outputs": [],
   "source": [
    "rand_array[0][0]"
   ]
  },
  {
   "cell_type": "code",
   "execution_count": null,
   "metadata": {},
   "outputs": [],
   "source": [
    "rand_array[0,0]"
   ]
  },
  {
   "cell_type": "markdown",
   "metadata": {},
   "source": [
    "### Imprimindo até 4 valores da coluna 2"
   ]
  },
  {
   "cell_type": "code",
   "execution_count": null,
   "metadata": {},
   "outputs": [],
   "source": [
    "rand_array[0:4,2]"
   ]
  },
  {
   "cell_type": "markdown",
   "metadata": {},
   "source": [
    "### Multiplicando a coluna 1 por 10:"
   ]
  },
  {
   "cell_type": "code",
   "execution_count": null,
   "metadata": {},
   "outputs": [],
   "source": [
    "rand_array[:,0] * 10"
   ]
  },
  {
   "cell_type": "markdown",
   "metadata": {},
   "source": [
    "### Acessando valores por índices:"
   ]
  },
  {
   "cell_type": "code",
   "execution_count": null,
   "metadata": {},
   "outputs": [],
   "source": [
    "rand_array > 0.60"
   ]
  },
  {
   "cell_type": "code",
   "execution_count": null,
   "metadata": {},
   "outputs": [],
   "source": [
    "rand_array[rand_array > 0.60]"
   ]
  },
  {
   "cell_type": "markdown",
   "metadata": {},
   "source": [
    "---"
   ]
  },
  {
   "cell_type": "markdown",
   "metadata": {},
   "source": [
    "<h2>1.3. Funções com arrays</h2>"
   ]
  },
  {
   "cell_type": "markdown",
   "metadata": {},
   "source": [
    "### Imprimindo o valor máximo do array"
   ]
  },
  {
   "cell_type": "code",
   "execution_count": null,
   "metadata": {},
   "outputs": [],
   "source": [
    "rand_array = np.random.random([7,3])"
   ]
  },
  {
   "cell_type": "code",
   "execution_count": null,
   "metadata": {},
   "outputs": [],
   "source": [
    "rand_array"
   ]
  },
  {
   "cell_type": "code",
   "execution_count": null,
   "metadata": {},
   "outputs": [],
   "source": [
    "rand_array.max()"
   ]
  },
  {
   "cell_type": "markdown",
   "metadata": {},
   "source": [
    "### Imprimindo o valor mínimo"
   ]
  },
  {
   "cell_type": "code",
   "execution_count": null,
   "metadata": {},
   "outputs": [],
   "source": [
    "rand_array.min()"
   ]
  },
  {
   "cell_type": "markdown",
   "metadata": {},
   "source": [
    "### Imprimindo o valor médio"
   ]
  },
  {
   "cell_type": "code",
   "execution_count": null,
   "metadata": {},
   "outputs": [],
   "source": [
    "rand_array.mean()"
   ]
  },
  {
   "cell_type": "markdown",
   "metadata": {},
   "source": [
    "### Imprimindo o desvio padrão:"
   ]
  },
  {
   "cell_type": "code",
   "execution_count": null,
   "metadata": {},
   "outputs": [],
   "source": [
    "rand_array.std()"
   ]
  },
  {
   "cell_type": "markdown",
   "metadata": {},
   "source": [
    "### Quantidade de números no array:"
   ]
  },
  {
   "cell_type": "code",
   "execution_count": null,
   "metadata": {},
   "outputs": [],
   "source": [
    "rand_array.size"
   ]
  },
  {
   "cell_type": "markdown",
   "metadata": {},
   "source": [
    "### Somando todos os elementos do array"
   ]
  },
  {
   "cell_type": "code",
   "execution_count": null,
   "metadata": {},
   "outputs": [],
   "source": [
    "rand_array.sum()"
   ]
  },
  {
   "cell_type": "markdown",
   "metadata": {},
   "source": [
    "### Somatório de cada linha:"
   ]
  },
  {
   "cell_type": "code",
   "execution_count": null,
   "metadata": {},
   "outputs": [],
   "source": [
    "rand_array.sum(axis=1)"
   ]
  },
  {
   "cell_type": "markdown",
   "metadata": {},
   "source": [
    "### Somatório de cada coluna:"
   ]
  },
  {
   "cell_type": "code",
   "execution_count": null,
   "metadata": {},
   "outputs": [],
   "source": [
    "rand_array.sum(axis=0)"
   ]
  },
  {
   "cell_type": "markdown",
   "metadata": {},
   "source": [
    "---"
   ]
  },
  {
   "cell_type": "markdown",
   "metadata": {},
   "source": [
    "<h2>1.4. Transformação de arrays</h2>"
   ]
  },
  {
   "cell_type": "markdown",
   "metadata": {},
   "source": [
    "### Criando um array aleatório:"
   ]
  },
  {
   "cell_type": "code",
   "execution_count": null,
   "metadata": {},
   "outputs": [],
   "source": [
    "rand_array = np.random.random([2,4])"
   ]
  },
  {
   "cell_type": "code",
   "execution_count": null,
   "metadata": {},
   "outputs": [],
   "source": [
    "rand_array"
   ]
  },
  {
   "cell_type": "markdown",
   "metadata": {},
   "source": [
    "### Transposição de matriz:"
   ]
  },
  {
   "cell_type": "code",
   "execution_count": null,
   "metadata": {},
   "outputs": [],
   "source": [
    "rand_array.T"
   ]
  },
  {
   "cell_type": "code",
   "execution_count": null,
   "metadata": {},
   "outputs": [],
   "source": [
    "rand_array"
   ]
  },
  {
   "cell_type": "markdown",
   "metadata": {},
   "source": [
    "### Transformando a matriz em um array de uma linha. É comum em bibliotecas como <i>scikit-learn</i> e <i>Keras</i>"
   ]
  },
  {
   "cell_type": "code",
   "execution_count": null,
   "metadata": {},
   "outputs": [],
   "source": [
    "rand_array.reshape(-1)"
   ]
  },
  {
   "cell_type": "code",
   "execution_count": null,
   "metadata": {},
   "outputs": [],
   "source": [
    "rand_array = np.random.random([2,5])"
   ]
  },
  {
   "cell_type": "code",
   "execution_count": null,
   "metadata": {},
   "outputs": [],
   "source": [
    "rand_array"
   ]
  },
  {
   "cell_type": "markdown",
   "metadata": {},
   "source": [
    "### Transforma em uma matriz com 5 linhas e 2 colunas:"
   ]
  },
  {
   "cell_type": "code",
   "execution_count": null,
   "metadata": {},
   "outputs": [],
   "source": [
    "rand_array.reshape(5,2)"
   ]
  },
  {
   "cell_type": "code",
   "execution_count": null,
   "metadata": {},
   "outputs": [],
   "source": [
    "rand_array.reshape(-1)"
   ]
  },
  {
   "cell_type": "markdown",
   "metadata": {},
   "source": [
    "### Adicionando elementos a um array:"
   ]
  },
  {
   "cell_type": "code",
   "execution_count": null,
   "metadata": {},
   "outputs": [],
   "source": [
    "rand_array = np.insert(rand_array,0,10)"
   ]
  },
  {
   "cell_type": "code",
   "execution_count": null,
   "metadata": {},
   "outputs": [],
   "source": [
    "rand_array"
   ]
  },
  {
   "cell_type": "markdown",
   "metadata": {},
   "source": [
    "### Apagando o elemento da primeira posição do array:"
   ]
  },
  {
   "cell_type": "code",
   "execution_count": null,
   "metadata": {},
   "outputs": [],
   "source": [
    "rand_array = np.delete(rand_array,[0])"
   ]
  },
  {
   "cell_type": "code",
   "execution_count": null,
   "metadata": {},
   "outputs": [],
   "source": [
    "rand_array"
   ]
  },
  {
   "cell_type": "markdown",
   "metadata": {},
   "source": [
    "---"
   ]
  },
  {
   "cell_type": "markdown",
   "metadata": {},
   "source": [
    "<h2>1.5. Numpy Arrays vs Listas</h2>"
   ]
  },
  {
   "cell_type": "markdown",
   "metadata": {},
   "source": [
    "### Criando uma lista:"
   ]
  },
  {
   "cell_type": "code",
   "execution_count": null,
   "metadata": {},
   "outputs": [],
   "source": [
    "lista = [7,8,9]"
   ]
  },
  {
   "cell_type": "code",
   "execution_count": null,
   "metadata": {},
   "outputs": [],
   "source": [
    "lista"
   ]
  },
  {
   "cell_type": "markdown",
   "metadata": {},
   "source": [
    "### Multiplicar valores da lista por 2"
   ]
  },
  {
   "cell_type": "code",
   "execution_count": null,
   "metadata": {},
   "outputs": [],
   "source": [
    "lista * 2"
   ]
  },
  {
   "cell_type": "markdown",
   "metadata": {},
   "source": [
    "### Transforme a variável lista em um array Numpy"
   ]
  },
  {
   "cell_type": "code",
   "execution_count": null,
   "metadata": {},
   "outputs": [],
   "source": [
    "array_list = np.array(lista)"
   ]
  },
  {
   "cell_type": "code",
   "execution_count": null,
   "metadata": {},
   "outputs": [],
   "source": [
    "array_list"
   ]
  },
  {
   "cell_type": "markdown",
   "metadata": {},
   "source": [
    "### Multiplicando cada elemento por 2."
   ]
  },
  {
   "cell_type": "code",
   "execution_count": null,
   "metadata": {},
   "outputs": [],
   "source": [
    "array_list * 2"
   ]
  },
  {
   "cell_type": "markdown",
   "metadata": {},
   "source": [
    "### Calcular o <i>índice de massa corporal</i> (IMC) de pessoas."
   ]
  },
  {
   "cell_type": "markdown",
   "metadata": {},
   "source": [
    "$\\displaystyle imc = \\frac{peso}{altura^2}$"
   ]
  },
  {
   "cell_type": "code",
   "execution_count": null,
   "metadata": {},
   "outputs": [],
   "source": [
    "pesos = np.array([56,79,112,104])\n",
    "altura = np.array([1.82,1.50,1.90,1.65])"
   ]
  },
  {
   "cell_type": "code",
   "execution_count": null,
   "metadata": {},
   "outputs": [],
   "source": [
    "pesos / altura ** 2"
   ]
  },
  {
   "cell_type": "markdown",
   "metadata": {},
   "source": [
    "### Exponenciação:"
   ]
  },
  {
   "cell_type": "code",
   "execution_count": null,
   "metadata": {},
   "outputs": [],
   "source": [
    "my_array = np.array([1,2,3,4,5])"
   ]
  },
  {
   "cell_type": "code",
   "execution_count": null,
   "metadata": {},
   "outputs": [],
   "source": [
    "my_array"
   ]
  },
  {
   "cell_type": "code",
   "execution_count": null,
   "metadata": {},
   "outputs": [],
   "source": [
    "my_array**2"
   ]
  },
  {
   "cell_type": "code",
   "execution_count": null,
   "metadata": {},
   "outputs": [],
   "source": [
    "2**my_array"
   ]
  },
  {
   "cell_type": "markdown",
   "metadata": {},
   "source": [
    "---"
   ]
  },
  {
   "cell_type": "markdown",
   "metadata": {},
   "source": [
    "<h1>2. Interpretando equações matemáticas com NumPy</h1>"
   ]
  },
  {
   "cell_type": "markdown",
   "metadata": {},
   "source": [
    "---"
   ]
  },
  {
   "cell_type": "markdown",
   "metadata": {},
   "source": [
    "<h2>4.2. Fórmulas matemáticas com o Latex</h2>"
   ]
  },
  {
   "cell_type": "markdown",
   "metadata": {},
   "source": [
    "### Criando uma equação com o marcador '$$' "
   ]
  },
  {
   "cell_type": "markdown",
   "metadata": {},
   "source": [
    "$\\displaystyle F(k) = \\int_{-\\infty}^{\\infty} f(x) e^{2\\pi i k} dx$"
   ]
  },
  {
   "cell_type": "markdown",
   "metadata": {},
   "source": [
    "---"
   ]
  },
  {
   "cell_type": "markdown",
   "metadata": {},
   "source": [
    "<h2>4.3. Programando a partir de equações matemáticas</h2>"
   ]
  },
  {
   "cell_type": "markdown",
   "metadata": {},
   "source": [
    "### Considere dois vetores $\\textbf{u}, \\textbf{v} \\in \\mathbb{R}^d$"
   ]
  },
  {
   "cell_type": "code",
   "execution_count": null,
   "metadata": {},
   "outputs": [],
   "source": [
    "import numpy as np"
   ]
  },
  {
   "cell_type": "code",
   "execution_count": null,
   "metadata": {},
   "outputs": [],
   "source": [
    "u = np.array([1, 2])\n",
    "v = np.array([3, 7])"
   ]
  },
  {
   "cell_type": "markdown",
   "metadata": {},
   "source": [
    "---"
   ]
  },
  {
   "cell_type": "markdown",
   "metadata": {},
   "source": [
    "<h2>4.3.1. Euclideana</h2>"
   ]
  },
  {
   "cell_type": "markdown",
   "metadata": {},
   "source": [
    "$\\displaystyle dist \\left( \\textbf{u}, \\textbf{v} \\right) = \\sqrt{\\sum_{i = 1}^d \\left( \\textbf{u}_{i} - \\textbf{v}_{i} \\right)^2 }$"
   ]
  },
  {
   "cell_type": "code",
   "execution_count": null,
   "metadata": {},
   "outputs": [],
   "source": [
    "dist_euclidean = np.sqrt( np.sum( (u - v)**2 ) )\n",
    "dist_euclidean"
   ]
  },
  {
   "cell_type": "markdown",
   "metadata": {},
   "source": [
    "---"
   ]
  },
  {
   "cell_type": "markdown",
   "metadata": {},
   "source": [
    "<h2>5.3.2. Manhattan</h2>"
   ]
  },
  {
   "cell_type": "markdown",
   "metadata": {},
   "source": [
    "$\\displaystyle dist \\left( \\textbf{u}, \\textbf{v} \\right) = \\sum_{i = 1}^d | \\textbf{u}_{i} - \\textbf{v}_{i} |$"
   ]
  },
  {
   "cell_type": "code",
   "execution_count": null,
   "metadata": {},
   "outputs": [],
   "source": [
    "dist_manhattan = np.sum(np.absolute(u - v))\n",
    "dist_manhattan"
   ]
  },
  {
   "cell_type": "markdown",
   "metadata": {},
   "source": [
    "---"
   ]
  },
  {
   "cell_type": "markdown",
   "metadata": {},
   "source": [
    "<h2>5.3.3. Chebyshev</h2>"
   ]
  },
  {
   "cell_type": "markdown",
   "metadata": {},
   "source": [
    "$\\displaystyle dist \\left( \\textbf{u}, \\textbf{v} \\right) = \\max_{ i \\in \\{ 1, 2, \\cdots, d \\} } | \\textbf{u}_{i} - \\textbf{v}_{i} |$"
   ]
  },
  {
   "cell_type": "code",
   "execution_count": null,
   "metadata": {},
   "outputs": [],
   "source": [
    "dist_chebyshev = np.max(np.absolute(u - v))\n",
    "dist_chebyshev"
   ]
  },
  {
   "cell_type": "markdown",
   "metadata": {},
   "source": [
    "---"
   ]
  },
  {
   "cell_type": "markdown",
   "metadata": {},
   "source": [
    "<h2>4.3.2. Minkowski</h2>"
   ]
  },
  {
   "cell_type": "markdown",
   "metadata": {},
   "source": [
    "$\\displaystyle dist \\left( \\textbf{u}, \\textbf{v} \\right) = \\left( \\sum_{i = 1}^d | \\textbf{u}_{i} - \\textbf{v}_{i} |^p \\right)^{\\frac{1}{p}}$"
   ]
  },
  {
   "cell_type": "code",
   "execution_count": null,
   "metadata": {},
   "outputs": [],
   "source": [
    "p = 3\n",
    "dist_minkowski = np.sum( np.absolute(u - v)**p )**(1.0/p)\n",
    "dist_minkowski"
   ]
  },
  {
   "cell_type": "markdown",
   "metadata": {},
   "source": [
    "---"
   ]
  },
  {
   "cell_type": "markdown",
   "metadata": {},
   "source": [
    "<h2>4.3.3. Cosseno</h2>"
   ]
  },
  {
   "cell_type": "markdown",
   "metadata": {},
   "source": [
    "$\\displaystyle dist \\left( \\textbf{u}, \\textbf{v} \\right) = \\frac{\\displaystyle \\sum_{i = 1}^d \\textbf{u}_i \\textbf{v}_i }{ \\displaystyle \\sqrt{ \\sum_{i = 1}^d \\textbf{u}_i^2 } \\sqrt{ \\sum_{i = 1}^d \\textbf{v}_i^2 } }$"
   ]
  },
  {
   "cell_type": "code",
   "execution_count": null,
   "metadata": {},
   "outputs": [],
   "source": [
    "dist_cosseno = np.sum(u*v) / ( np.sqrt(np.sum(u**2)) * np.sqrt(np.sum(v**2)) )\n",
    "dist_cosseno"
   ]
  },
  {
   "cell_type": "markdown",
   "metadata": {},
   "source": [
    "---"
   ]
  },
  {
   "cell_type": "markdown",
   "metadata": {},
   "source": [
    "<h2>5.3.6. Pearson</h2>"
   ]
  },
  {
   "cell_type": "markdown",
   "metadata": {},
   "source": [
    "$\\displaystyle \\overline{\\textbf{u}} = \\frac{1}{d} \\sum_{i = 1}^d \\textbf{u}_i$"
   ]
  },
  {
   "cell_type": "markdown",
   "metadata": {},
   "source": [
    "$\\displaystyle \\overline{\\textbf{v}} = \\frac{1}{d} \\sum_{i = 1}^d \\textbf{v}_i$"
   ]
  },
  {
   "cell_type": "markdown",
   "metadata": {},
   "source": [
    "$\\displaystyle dist \\left( \\textbf{u}, \\textbf{v} \\right) = \\frac{\\displaystyle \\sum_{i = 1}^d \\left( \\textbf{u}_i - \\overline{\\textbf{u}} \\right) \\left( \\textbf{v}_i - \\overline{\\textbf{v}} \\right) }{ \\displaystyle \\sqrt{ \\sum_{i = 1}^d \\left( \\textbf{u}_i - \\overline{\\textbf{u}} \\right)^2 } \\sqrt{ \\sum_{i = 1}^d \\left( \\textbf{v}_i - \\overline{\\textbf{v}} \\right)^2 } }$"
   ]
  },
  {
   "cell_type": "code",
   "execution_count": null,
   "metadata": {},
   "outputs": [],
   "source": [
    "u_mean = np.mean(u)\n",
    "v_mean = np.mean(v)\n",
    "corr_pearson = np.sum( (u - u_mean)*(v - v_mean) ) / ( np.sqrt(np.sum( (u - u_mean)**2)) * np.sqrt(np.sum( (v - v_mean)**2)) )\n",
    "corr_pearson"
   ]
  },
  {
   "cell_type": "markdown",
   "metadata": {},
   "source": [
    "---"
   ]
  },
  {
   "cell_type": "markdown",
   "metadata": {},
   "source": [
    "<h2>4.4. Equações \"complexas\"</h2>"
   ]
  },
  {
   "cell_type": "markdown",
   "metadata": {},
   "source": [
    "$$\\begin{equation*}\n",
    "\\begin{aligned}\n",
    "\\min_{ \\mathbf{F} \\in \\mathbb{R}^{n \\times c} } & \\hspace{2mm} \\text{tr} \\left( \\mathbf{F}^\\top \\mathbf{L F} \\right) \\\\\n",
    "\\text{s.t.} & \\hspace{2mm} \\mathbf{F} \\mathbf{1}_c = \\mathbf{1}_n, \\hspace{2mm} \\mathbf{F}^\\top \\mathbf{1}_n = n \\omega\n",
    "\\end{aligned}\n",
    "\\end{equation*}$$"
   ]
  },
  {
   "cell_type": "markdown",
   "metadata": {},
   "source": [
    "---"
   ]
  },
  {
   "cell_type": "markdown",
   "metadata": {},
   "source": [
    "### Problema de otimização:"
   ]
  },
  {
   "cell_type": "markdown",
   "metadata": {},
   "source": [
    "$$\\begin{equation*}\n",
    "    \\begin{gathered}\n",
    "        \\min_{ F \\in \\mathbb{R}^{n \\times c} } \\text{tr} \\left( F_\\mathcal{U}^\\top L_\\mathcal{UU} F_\\mathcal{U} \\right) + 2 \\text{tr} \\left( F_\\mathcal{U}^\\top L_\\mathcal{UL} Y_\\mathcal{L} \\right) \\\\\n",
    "        \\text{s.t. } \\hspace{2mm} F_\\mathcal{U} 1_c = 1_u, \\hspace{2mm} F_\\mathcal{U}^\\top 1_u = n \\omega - Y_\\mathcal{L}^\\top 1_l\n",
    "    \\end{gathered}\n",
    "    \\end{equation*}\n",
    "    $$"
   ]
  },
  {
   "cell_type": "markdown",
   "metadata": {},
   "source": [
    "### Solução global:"
   ]
  },
  {
   "cell_type": "markdown",
   "metadata": {},
   "source": [
    "$$\\begin{equation*}\n",
    "        \\displaystyle F_\\mathcal{U} = - L_\\mathcal{UU}^{-1} L_\\mathcal{UL} Y_\\mathcal{L} + \\frac{ L_\\mathcal{UU}^{-1} 1_u }{ 1_u^\\top L_\\mathcal{UU}^{-1} 1_u } \\left( n \\omega^\\top - 1_l^\\top Y_\\mathcal{L} + 1_u^\\top L_\\mathcal{UU}^{-1} L_\\mathcal{UL} Y_\\mathcal{L} \\right) + \\frac{1}{c} \\left( 1_u + L_\\mathcal{UU}^{-1} L_\\mathcal{UL} Y_\\mathcal{L} 1_l - \\frac{ L_\\mathcal{UU}^{-1} 1_u }{ 1_u^\\top L_\\mathcal{UU}^{-1} 1_u } \\left( u + 1_u^\\top L_\\mathcal{UU}^{-1} L_\\mathcal{UL} Y_\\mathcal{L} \\right) \\right)\n",
    "    \\end{equation*}\n",
    "    $$"
   ]
  },
  {
   "cell_type": "markdown",
   "metadata": {},
   "source": [
    "---"
   ]
  },
  {
   "cell_type": "markdown",
   "metadata": {},
   "source": [
    "<h1>3. Álgebra linear com NumPy</h1>"
   ]
  },
  {
   "cell_type": "markdown",
   "metadata": {},
   "source": [
    "---"
   ]
  },
  {
   "cell_type": "code",
   "execution_count": 1,
   "metadata": {},
   "outputs": [],
   "source": [
    "import numpy as np"
   ]
  },
  {
   "cell_type": "code",
   "execution_count": 2,
   "metadata": {},
   "outputs": [],
   "source": [
    "u = np.array([1, 2, 10])\n",
    "v = np.array([3, 7, 8])"
   ]
  },
  {
   "cell_type": "markdown",
   "metadata": {},
   "source": [
    "### Vetor coluna"
   ]
  },
  {
   "cell_type": "code",
   "execution_count": 3,
   "metadata": {},
   "outputs": [
    {
     "data": {
      "text/plain": [
       "array([[ 1],\n",
       "       [ 2],\n",
       "       [10]])"
      ]
     },
     "execution_count": 3,
     "metadata": {},
     "output_type": "execute_result"
    }
   ],
   "source": [
    "u[:, None]"
   ]
  },
  {
   "cell_type": "markdown",
   "metadata": {},
   "source": [
    "### Vetor linha"
   ]
  },
  {
   "cell_type": "code",
   "execution_count": 4,
   "metadata": {},
   "outputs": [
    {
     "data": {
      "text/plain": [
       "array([[ 1,  2, 10]])"
      ]
     },
     "execution_count": 4,
     "metadata": {},
     "output_type": "execute_result"
    }
   ],
   "source": [
    "u[None, :]"
   ]
  },
  {
   "cell_type": "markdown",
   "metadata": {},
   "source": [
    "### Transposição de vetores"
   ]
  },
  {
   "cell_type": "code",
   "execution_count": 5,
   "metadata": {},
   "outputs": [
    {
     "data": {
      "text/plain": [
       "array([[ 1,  2, 10]])"
      ]
     },
     "execution_count": 5,
     "metadata": {},
     "output_type": "execute_result"
    }
   ],
   "source": [
    "np.transpose(u[:, None])"
   ]
  },
  {
   "cell_type": "code",
   "execution_count": 9,
   "metadata": {},
   "outputs": [
    {
     "data": {
      "text/plain": [
       "array([[ 1],\n",
       "       [ 2],\n",
       "       [10]])"
      ]
     },
     "execution_count": 9,
     "metadata": {},
     "output_type": "execute_result"
    }
   ],
   "source": [
    "np.transpose(u[None, :])"
   ]
  },
  {
   "cell_type": "markdown",
   "metadata": {},
   "source": [
    "---"
   ]
  },
  {
   "cell_type": "markdown",
   "metadata": {},
   "source": [
    "<h2>3.1. Multiplicação de matrizes</h2>"
   ]
  },
  {
   "cell_type": "markdown",
   "metadata": {},
   "source": [
    "$$C = A B \\hspace{10mm} \\Rightarrow \\hspace{10mm} C_{ij} = \\sum_k A_{ik} B_{kj}$$"
   ]
  },
  {
   "cell_type": "markdown",
   "metadata": {},
   "source": [
    "<img src=\"mult_matriz.png\" width=\"400px\">"
   ]
  },
  {
   "cell_type": "markdown",
   "metadata": {},
   "source": [
    "---"
   ]
  },
  {
   "cell_type": "markdown",
   "metadata": {},
   "source": [
    "<h2>3.2. Matriz identidade</h2>"
   ]
  },
  {
   "cell_type": "markdown",
   "metadata": {},
   "source": [
    "$$I =\n",
    "\\left[\n",
    "\\begin{equation*}\n",
    "\\begin{array}{cccc}\n",
    "1 & 0 & \\cdots & 0 \\\\\n",
    "0 & 1 & \\cdots & 0 \\\\\n",
    "\\vdots & \\vdots & \\ddots & \\vdots \\\\\n",
    "0 & 0 & \\cdots & 1\n",
    "\\end{array}\n",
    "\\end{equation*}\n",
    "\\right]\n",
    "$$"
   ]
  },
  {
   "cell_type": "markdown",
   "metadata": {},
   "source": [
    "### Propriedade principal:\n",
    "\n",
    "$$A I = I A = A$$"
   ]
  },
  {
   "cell_type": "code",
   "execution_count": 12,
   "metadata": {},
   "outputs": [
    {
     "data": {
      "text/plain": [
       "array([[1., 0., 0., 0., 0.],\n",
       "       [0., 1., 0., 0., 0.],\n",
       "       [0., 0., 1., 0., 0.],\n",
       "       [0., 0., 0., 1., 0.],\n",
       "       [0., 0., 0., 0., 1.]])"
      ]
     },
     "execution_count": 12,
     "metadata": {},
     "output_type": "execute_result"
    }
   ],
   "source": [
    "np.eye(5)"
   ]
  },
  {
   "cell_type": "markdown",
   "metadata": {},
   "source": [
    "### Computando $y = I u$"
   ]
  },
  {
   "cell_type": "code",
   "execution_count": 15,
   "metadata": {},
   "outputs": [
    {
     "data": {
      "text/plain": [
       "array([[ 1.],\n",
       "       [ 2.],\n",
       "       [10.]])"
      ]
     },
     "execution_count": 15,
     "metadata": {},
     "output_type": "execute_result"
    }
   ],
   "source": [
    "np.eye(3) @ u[:, None]"
   ]
  },
  {
   "cell_type": "markdown",
   "metadata": {},
   "source": [
    "### Computando $y = u^\\top I$"
   ]
  },
  {
   "cell_type": "code",
   "execution_count": 16,
   "metadata": {},
   "outputs": [
    {
     "data": {
      "text/plain": [
       "array([[ 1.,  2., 10.]])"
      ]
     },
     "execution_count": 16,
     "metadata": {},
     "output_type": "execute_result"
    }
   ],
   "source": [
    "u[None, :] @ np.eye(3)"
   ]
  },
  {
   "cell_type": "markdown",
   "metadata": {},
   "source": [
    "---"
   ]
  },
  {
   "cell_type": "markdown",
   "metadata": {},
   "source": [
    "<h2>3.3. Trace</h2>"
   ]
  },
  {
   "cell_type": "markdown",
   "metadata": {},
   "source": [
    "### Soma dos elementos da diagonal da matriz\n",
    "\n",
    "### Muito usado para modelagem matemática de problemas multiclasse associados à minimização de uma função de energia\n",
    "\n",
    "$$\\text{tr} (A) = \\sum_i A_{ii}$$"
   ]
  },
  {
   "cell_type": "code",
   "execution_count": 18,
   "metadata": {},
   "outputs": [],
   "source": [
    "A = np.array([[6, 1, 1],\n",
    "              [4, -2, 5],\n",
    "              [2, 8, 7]])"
   ]
  },
  {
   "cell_type": "code",
   "execution_count": 19,
   "metadata": {},
   "outputs": [
    {
     "data": {
      "text/plain": [
       "11"
      ]
     },
     "execution_count": 19,
     "metadata": {},
     "output_type": "execute_result"
    }
   ],
   "source": [
    "np.trace(A)"
   ]
  },
  {
   "cell_type": "code",
   "execution_count": 21,
   "metadata": {},
   "outputs": [
    {
     "data": {
      "text/plain": [
       "array([[36,  1,  1],\n",
       "       [16,  4, 25],\n",
       "       [ 4, 64, 49]], dtype=int32)"
      ]
     },
     "execution_count": 21,
     "metadata": {},
     "output_type": "execute_result"
    }
   ],
   "source": [
    "A**2"
   ]
  },
  {
   "cell_type": "code",
   "execution_count": 22,
   "metadata": {},
   "outputs": [
    {
     "data": {
      "text/plain": [
       "-1509"
      ]
     },
     "execution_count": 22,
     "metadata": {},
     "output_type": "execute_result"
    }
   ],
   "source": [
    "np.trace(A**2 + 5 * A - 3* A**3)"
   ]
  },
  {
   "cell_type": "markdown",
   "metadata": {},
   "source": [
    "---"
   ]
  },
  {
   "cell_type": "markdown",
   "metadata": {},
   "source": [
    "<h2>3.4. Produto escalar</h2>"
   ]
  },
  {
   "cell_type": "markdown",
   "metadata": {},
   "source": [
    "### Também conhecido como produto escalar entre vetores. Muito usado em mineração de textos e sistemas de recomendação.\n",
    "\n",
    "### Definição: \n",
    "\n",
    "$\\displaystyle \\langle u, v \\rangle = \\sum_{i = 1}^d u_i v_i$ "
   ]
  },
  {
   "cell_type": "code",
   "execution_count": 23,
   "metadata": {},
   "outputs": [
    {
     "data": {
      "text/plain": [
       "97"
      ]
     },
     "execution_count": 23,
     "metadata": {},
     "output_type": "execute_result"
    }
   ],
   "source": [
    "dot_prod = np.sum(u*v)\n",
    "dot_prod"
   ]
  },
  {
   "cell_type": "code",
   "execution_count": 24,
   "metadata": {},
   "outputs": [
    {
     "data": {
      "text/plain": [
       "97"
      ]
     },
     "execution_count": 24,
     "metadata": {},
     "output_type": "execute_result"
    }
   ],
   "source": [
    "np.dot(u, v)"
   ]
  },
  {
   "cell_type": "code",
   "execution_count": 25,
   "metadata": {},
   "outputs": [
    {
     "data": {
      "text/plain": [
       "97"
      ]
     },
     "execution_count": 25,
     "metadata": {},
     "output_type": "execute_result"
    }
   ],
   "source": [
    "np.vdot(u, v)"
   ]
  },
  {
   "cell_type": "code",
   "execution_count": 26,
   "metadata": {},
   "outputs": [
    {
     "data": {
      "text/plain": [
       "97"
      ]
     },
     "execution_count": 26,
     "metadata": {},
     "output_type": "execute_result"
    }
   ],
   "source": [
    "np.inner(u, v)"
   ]
  },
  {
   "cell_type": "markdown",
   "metadata": {},
   "source": [
    "---"
   ]
  },
  {
   "cell_type": "markdown",
   "metadata": {},
   "source": [
    "<h2>3.2. Outer product</h2>"
   ]
  },
  {
   "cell_type": "markdown",
   "metadata": {},
   "source": [
    "### Muito utilizado em aprendizado em grafos\n",
    "\n",
    "### Dados dois vetores $u = (u_1, u_2, \\cdots, u_m )$ e $v = (v_1, v_2, \\cdots, v_n)$, o outer product é definido por:\n",
    "\n",
    "$$\n",
    "u \\otimes v = \n",
    "\\left[\n",
    "\\begin{array}{cccc}\n",
    "u_1 v_1 & u_1 v_2 & \\cdots & u_1 v_n \\\\\n",
    "u_2 v_1 & u_2 v_2 & \\cdots & u_2 v_n \\\\\n",
    "\\vdots & \\vdots & \\ddots & \\vdots \\\\\n",
    "u_m v_1 & u_m v_2 & \\cdots & u_m v_n\n",
    "\\end{array}\n",
    "\\right]$$\n",
    "\n",
    "### A posição (i,j) do outer product é definida por $(u \\otimes v)_{ij} = u_i v_j$\n",
    "\n",
    "### Dado que $u$ e $v$ são vetores, então $(u \\otimes v) = u v^\\top$\n"
   ]
  },
  {
   "cell_type": "code",
   "execution_count": 27,
   "metadata": {},
   "outputs": [
    {
     "data": {
      "text/plain": [
       "array([[ 1],\n",
       "       [ 2],\n",
       "       [10]])"
      ]
     },
     "execution_count": 27,
     "metadata": {},
     "output_type": "execute_result"
    }
   ],
   "source": [
    "u[:, None]"
   ]
  },
  {
   "cell_type": "code",
   "execution_count": 28,
   "metadata": {},
   "outputs": [
    {
     "data": {
      "text/plain": [
       "array([[3, 7, 8]])"
      ]
     },
     "execution_count": 28,
     "metadata": {},
     "output_type": "execute_result"
    }
   ],
   "source": [
    "v[None, :]"
   ]
  },
  {
   "cell_type": "markdown",
   "metadata": {},
   "source": [
    "### Computando $u v^\\top$"
   ]
  },
  {
   "cell_type": "code",
   "execution_count": 30,
   "metadata": {},
   "outputs": [
    {
     "data": {
      "text/plain": [
       "array([[ 3,  7,  8],\n",
       "       [ 6, 14, 16],\n",
       "       [30, 70, 80]])"
      ]
     },
     "execution_count": 30,
     "metadata": {},
     "output_type": "execute_result"
    }
   ],
   "source": [
    "outer_prod = u[:, None] @ v[None, :]\n",
    "outer_prod"
   ]
  },
  {
   "cell_type": "markdown",
   "metadata": {},
   "source": [
    "### Computando o outer product pelo NumPy:"
   ]
  },
  {
   "cell_type": "code",
   "execution_count": 31,
   "metadata": {},
   "outputs": [
    {
     "data": {
      "text/plain": [
       "array([[ 3,  7,  8],\n",
       "       [ 6, 14, 16],\n",
       "       [30, 70, 80]])"
      ]
     },
     "execution_count": 31,
     "metadata": {},
     "output_type": "execute_result"
    }
   ],
   "source": [
    "np.outer(u, v)"
   ]
  },
  {
   "cell_type": "markdown",
   "metadata": {},
   "source": [
    "---"
   ]
  },
  {
   "cell_type": "markdown",
   "metadata": {},
   "source": [
    "<h2>3.3. Matriz inversa</h2>"
   ]
  },
  {
   "cell_type": "markdown",
   "metadata": {},
   "source": [
    "$$A B = B A = I$$"
   ]
  },
  {
   "cell_type": "code",
   "execution_count": 32,
   "metadata": {},
   "outputs": [],
   "source": [
    "A = np.array([ [1, 2, -1], [2, -1, 1], [1, 1, 1]])"
   ]
  },
  {
   "cell_type": "code",
   "execution_count": 33,
   "metadata": {},
   "outputs": [
    {
     "data": {
      "text/plain": [
       "array([[ 1,  2, -1],\n",
       "       [ 2, -1,  1],\n",
       "       [ 1,  1,  1]])"
      ]
     },
     "execution_count": 33,
     "metadata": {},
     "output_type": "execute_result"
    }
   ],
   "source": [
    "A"
   ]
  },
  {
   "cell_type": "code",
   "execution_count": 36,
   "metadata": {},
   "outputs": [
    {
     "data": {
      "text/plain": [
       "array([[ 0.28571429,  0.42857143, -0.14285714],\n",
       "       [ 0.14285714, -0.28571429,  0.42857143],\n",
       "       [-0.42857143, -0.14285714,  0.71428571]])"
      ]
     },
     "execution_count": 36,
     "metadata": {},
     "output_type": "execute_result"
    }
   ],
   "source": [
    "np.linalg.inv(A)"
   ]
  },
  {
   "cell_type": "markdown",
   "metadata": {},
   "source": [
    "### Propriedades:\n",
    "- $\\left( B^{-1} \\right)^{-1} = B$\n",
    "- $\\left( B^{-1} \\right)^\\top = \\left( B^\\top \\right)^{-1}$\n",
    "- $(AB)^{-1} = B^{-1} A^{-1}$"
   ]
  },
  {
   "cell_type": "code",
   "execution_count": 37,
   "metadata": {},
   "outputs": [],
   "source": [
    "B = np.array([ [1, 2, 3], [0, 1, 4], [5, 6, 0]])"
   ]
  },
  {
   "cell_type": "code",
   "execution_count": 38,
   "metadata": {},
   "outputs": [
    {
     "data": {
      "text/plain": [
       "array([[1, 2, 3],\n",
       "       [0, 1, 4],\n",
       "       [5, 6, 0]])"
      ]
     },
     "execution_count": 38,
     "metadata": {},
     "output_type": "execute_result"
    }
   ],
   "source": [
    "B"
   ]
  },
  {
   "cell_type": "markdown",
   "metadata": {},
   "source": [
    "### Computando $\\left( B^{-1} \\right)^{-1}$"
   ]
  },
  {
   "cell_type": "code",
   "execution_count": 39,
   "metadata": {},
   "outputs": [
    {
     "data": {
      "text/plain": [
       "array([[1.00000000e+00, 2.00000000e+00, 3.00000000e+00],\n",
       "       [4.62592927e-17, 1.00000000e+00, 4.00000000e+00],\n",
       "       [5.00000000e+00, 6.00000000e+00, 4.61852778e-14]])"
      ]
     },
     "execution_count": 39,
     "metadata": {},
     "output_type": "execute_result"
    }
   ],
   "source": [
    "np.linalg.inv(np.linalg.inv(B))"
   ]
  },
  {
   "cell_type": "markdown",
   "metadata": {},
   "source": [
    "### Computando $\\left( B^{-1} \\right)^\\top$"
   ]
  },
  {
   "cell_type": "code",
   "execution_count": 40,
   "metadata": {},
   "outputs": [
    {
     "data": {
      "text/plain": [
       "array([[-24.,  20.,  -5.],\n",
       "       [ 18., -15.,   4.],\n",
       "       [  5.,  -4.,   1.]])"
      ]
     },
     "execution_count": 40,
     "metadata": {},
     "output_type": "execute_result"
    }
   ],
   "source": [
    "np.linalg.inv(B).T"
   ]
  },
  {
   "cell_type": "markdown",
   "metadata": {},
   "source": [
    "### Computando $\\left( B^\\top \\right)^{-1}$"
   ]
  },
  {
   "cell_type": "code",
   "execution_count": 42,
   "metadata": {},
   "outputs": [
    {
     "data": {
      "text/plain": [
       "array([[-24.,  20.,  -5.],\n",
       "       [ 18., -15.,   4.],\n",
       "       [  5.,  -4.,   1.]])"
      ]
     },
     "execution_count": 42,
     "metadata": {},
     "output_type": "execute_result"
    }
   ],
   "source": [
    "np.linalg.inv(B.T)"
   ]
  },
  {
   "cell_type": "markdown",
   "metadata": {},
   "source": [
    "### Computando $(AB)^{-1}$"
   ]
  },
  {
   "cell_type": "code",
   "execution_count": 43,
   "metadata": {},
   "outputs": [
    {
     "data": {
      "text/plain": [
       "array([[ -6.42857143, -16.14285714,  14.71428571],\n",
       "       [  5.28571429,  13.42857143, -12.14285714],\n",
       "       [ -1.28571429,  -3.42857143,   3.14285714]])"
      ]
     },
     "execution_count": 43,
     "metadata": {},
     "output_type": "execute_result"
    }
   ],
   "source": [
    "np.linalg.inv(A @ B)"
   ]
  },
  {
   "cell_type": "markdown",
   "metadata": {},
   "source": [
    "### Computando $B^{-1} A^{-1}$"
   ]
  },
  {
   "cell_type": "code",
   "execution_count": 44,
   "metadata": {},
   "outputs": [
    {
     "data": {
      "text/plain": [
       "array([[ -6.42857143, -16.14285714,  14.71428571],\n",
       "       [  5.28571429,  13.42857143, -12.14285714],\n",
       "       [ -1.28571429,  -3.42857143,   3.14285714]])"
      ]
     },
     "execution_count": 44,
     "metadata": {},
     "output_type": "execute_result"
    }
   ],
   "source": [
    "np.linalg.inv(B) @ np.linalg.inv(A)"
   ]
  },
  {
   "cell_type": "markdown",
   "metadata": {},
   "source": [
    "---"
   ]
  },
  {
   "cell_type": "markdown",
   "metadata": {},
   "source": [
    "<h2>3.4. Determinante de uma matriz</h2>"
   ]
  },
  {
   "cell_type": "markdown",
   "metadata": {},
   "source": [
    "### determinante é uma função matricial que associa a cada matriz quadrada a um escalar\n",
    "\n",
    "### Esta função permite saber se a matriz tem ou não inversa\n",
    "\n",
    "### Se det(A) = 0, A não possui inversa"
   ]
  },
  {
   "cell_type": "code",
   "execution_count": 45,
   "metadata": {},
   "outputs": [],
   "source": [
    "A = np.array([[6, 1, 1],\n",
    "              [4, -2, 5],\n",
    "              [2, 8, 7]])"
   ]
  },
  {
   "cell_type": "code",
   "execution_count": 46,
   "metadata": {},
   "outputs": [
    {
     "data": {
      "text/plain": [
       "array([[ 6,  1,  1],\n",
       "       [ 4, -2,  5],\n",
       "       [ 2,  8,  7]])"
      ]
     },
     "execution_count": 46,
     "metadata": {},
     "output_type": "execute_result"
    }
   ],
   "source": [
    "A"
   ]
  },
  {
   "cell_type": "code",
   "execution_count": 48,
   "metadata": {},
   "outputs": [
    {
     "data": {
      "text/plain": [
       "-805100124131.9985"
      ]
     },
     "execution_count": 48,
     "metadata": {},
     "output_type": "execute_result"
    }
   ],
   "source": [
    "np.linalg.det(A**5 + 2*A)"
   ]
  },
  {
   "cell_type": "markdown",
   "metadata": {},
   "source": [
    "### Propriedades\n",
    "- $\\text{det} (I) = 1$\n",
    "- $\\text{det} (A) = \\text{det} (A^\\top)$\n",
    "- $\\displaystyle \\text{det} \\left( A^{-1} \\right) = \\frac{1}{ \\text{det} (A) }$\n",
    "- $\\text{det} (AB) = \\text{det} (A) \\text{det} (B)$\n",
    "- $\\text{det} (\\lambda A) = \\lambda^n \\text{det} (A)$, em que $n$ representa a ordem de $A$"
   ]
  },
  {
   "cell_type": "markdown",
   "metadata": {},
   "source": [
    "### Computando $\\text{det} (I)$"
   ]
  },
  {
   "cell_type": "code",
   "execution_count": 51,
   "metadata": {},
   "outputs": [
    {
     "data": {
      "text/plain": [
       "1.0"
      ]
     },
     "execution_count": 51,
     "metadata": {},
     "output_type": "execute_result"
    }
   ],
   "source": [
    "n = 50\n",
    "np.linalg.det(np.eye(n))"
   ]
  },
  {
   "cell_type": "markdown",
   "metadata": {},
   "source": [
    "### Computando $\\text{det} (A)$"
   ]
  },
  {
   "cell_type": "code",
   "execution_count": 52,
   "metadata": {},
   "outputs": [
    {
     "data": {
      "text/plain": [
       "-306.0"
      ]
     },
     "execution_count": 52,
     "metadata": {},
     "output_type": "execute_result"
    }
   ],
   "source": [
    "np.linalg.det(A)"
   ]
  },
  {
   "cell_type": "markdown",
   "metadata": {},
   "source": [
    "### Computando $\\text{det} \\left( A^\\top \\right)$"
   ]
  },
  {
   "cell_type": "code",
   "execution_count": 53,
   "metadata": {},
   "outputs": [
    {
     "data": {
      "text/plain": [
       "-306.0"
      ]
     },
     "execution_count": 53,
     "metadata": {},
     "output_type": "execute_result"
    }
   ],
   "source": [
    "np.linalg.det(A.T)"
   ]
  },
  {
   "cell_type": "markdown",
   "metadata": {},
   "source": [
    "### Computando $\\text{det} \\left( A^{-1} \\right)$"
   ]
  },
  {
   "cell_type": "code",
   "execution_count": 54,
   "metadata": {},
   "outputs": [
    {
     "data": {
      "text/plain": [
       "-0.0032679738562091504"
      ]
     },
     "execution_count": 54,
     "metadata": {},
     "output_type": "execute_result"
    }
   ],
   "source": [
    "np.linalg.det(np.linalg.inv(A))"
   ]
  },
  {
   "cell_type": "markdown",
   "metadata": {},
   "source": [
    "### Computando $\\frac{1}{ \\text{det} (A) }$"
   ]
  },
  {
   "cell_type": "code",
   "execution_count": 55,
   "metadata": {},
   "outputs": [
    {
     "data": {
      "text/plain": [
       "-0.0032679738562091504"
      ]
     },
     "execution_count": 55,
     "metadata": {},
     "output_type": "execute_result"
    }
   ],
   "source": [
    "1.0 / np.linalg.det(A)"
   ]
  },
  {
   "cell_type": "markdown",
   "metadata": {},
   "source": [
    "### Computando $\\text{det} (AB)$"
   ]
  },
  {
   "cell_type": "code",
   "execution_count": 56,
   "metadata": {},
   "outputs": [
    {
     "data": {
      "text/plain": [
       "-305.99999999999943"
      ]
     },
     "execution_count": 56,
     "metadata": {},
     "output_type": "execute_result"
    }
   ],
   "source": [
    "np.linalg.det(A @ B)"
   ]
  },
  {
   "cell_type": "markdown",
   "metadata": {},
   "source": [
    "### Computando $\\text{det} (A) \\text{det} (B)$"
   ]
  },
  {
   "cell_type": "code",
   "execution_count": 57,
   "metadata": {},
   "outputs": [
    {
     "data": {
      "text/plain": [
       "-305.9999999999996"
      ]
     },
     "execution_count": 57,
     "metadata": {},
     "output_type": "execute_result"
    }
   ],
   "source": [
    "np.linalg.det(A) * np.linalg.det(B)"
   ]
  },
  {
   "cell_type": "markdown",
   "metadata": {},
   "source": [
    "### Computando $\\text{det} (\\lambda A)$"
   ]
  },
  {
   "cell_type": "code",
   "execution_count": 58,
   "metadata": {},
   "outputs": [],
   "source": [
    "lambda_p = 8"
   ]
  },
  {
   "cell_type": "code",
   "execution_count": 59,
   "metadata": {},
   "outputs": [
    {
     "data": {
      "text/plain": [
       "-156672.00000000012"
      ]
     },
     "execution_count": 59,
     "metadata": {},
     "output_type": "execute_result"
    }
   ],
   "source": [
    "np.linalg.det(lambda_p * A)"
   ]
  },
  {
   "cell_type": "markdown",
   "metadata": {},
   "source": [
    "### Computando $\\lambda^n \\text{det} (A)$"
   ]
  },
  {
   "cell_type": "code",
   "execution_count": 61,
   "metadata": {},
   "outputs": [
    {
     "data": {
      "text/plain": [
       "-156672.0"
      ]
     },
     "execution_count": 61,
     "metadata": {},
     "output_type": "execute_result"
    }
   ],
   "source": [
    "(lambda_p**3) * np.linalg.det(A)"
   ]
  },
  {
   "cell_type": "markdown",
   "metadata": {},
   "source": [
    "---"
   ]
  },
  {
   "cell_type": "markdown",
   "metadata": {},
   "source": [
    "<h2>3.5. Resolvendo sistemas de equações lineares</h2>"
   ]
  },
  {
   "cell_type": "markdown",
   "metadata": {},
   "source": [
    "### Um sistema de $m$ equações lineares com $n$ variáveis é definido por:"
   ]
  },
  {
   "cell_type": "markdown",
   "metadata": {},
   "source": [
    "$$\n",
    "\\begin{equation*}\n",
    "\\left\\{\n",
    "\\begin{gathered}\n",
    "a_{11} x_1 + a_{12} x_2 + \\cdots + a_{1n} x_n = b_1 \\\\\n",
    "a_{21} x_1 + a_{22} x_2 + \\cdots + a_{2n} x_n = b_2 \\\\\n",
    "\\vdots \\\\\n",
    "a_{m1} x_1 + a_{m2} x_2 + \\cdots + a_{mn} x_n = b_m\n",
    "\\end{gathered}\n",
    "\\right.\n",
    "\\end{equation*}\n",
    "$$\n",
    "\n",
    "\n",
    "### em que $x_1, x_2, \\cdots, x_n$ são as variáveis desconhecidas e $a_{11}, a_{12}, \\cdots, a_{mn}$ são coeficientes fo sistema. Usando notação matricial, temos:\n",
    "\n",
    "$$\n",
    "\\begin{equation*}\n",
    "A =\n",
    "\\left[\n",
    "\\begin{array}{cccc}\n",
    "a_{11} & a_{12} & \\cdots & a_{1n} \\\\\n",
    "a_{21} & a_{22} & \\cdots & a_{2n} \\\\\n",
    "\\vdots & \\vdots & \\ddots & \\vdots \\\\\n",
    "a_{m1} & a_{m2} & \\cdots & a_{mn} \\\\\n",
    "\\end{array}\n",
    "\\right]\n",
    "\\hspace{10mm}\n",
    "x = \n",
    "\\left[\n",
    "\\begin{array}{c}\n",
    "x_1 \\\\\n",
    "x_2 \\\\\n",
    "\\vdots \\\\\n",
    "x_n\n",
    "\\end{array}\n",
    "\\right]\n",
    "\\hspace{10mm}\n",
    "b = \n",
    "\\left[\n",
    "\\begin{array}{c}\n",
    "b_1 \\\\\n",
    "b_2 \\\\\n",
    "\\vdots \\\\\n",
    "b_m\n",
    "\\end{array}\n",
    "\\right]\n",
    "\\end{equation*}\n",
    "$$"
   ]
  },
  {
   "cell_type": "markdown",
   "metadata": {},
   "source": [
    "### Logo, temos que resolver a seguinte equação matricial:"
   ]
  },
  {
   "cell_type": "markdown",
   "metadata": {},
   "source": [
    "$$A x = b$$"
   ]
  },
  {
   "cell_type": "markdown",
   "metadata": {},
   "source": [
    "### Se $m=n$ e A for inversível, então $x = A^{-1} b$\n",
    "\n",
    "### Se $m \\neq n$, podemos fazer multiplicação pela transposta:"
   ]
  },
  {
   "cell_type": "markdown",
   "metadata": {},
   "source": [
    "$$A x = b \\hspace{4mm} \\Rightarrow \\hspace{4mm} A^\\top A x = A^\\top b \\hspace{4mm} \\Rightarrow \\hspace{4mm} x = \\left( A^\\top A \\right)^{-1} A^\\top b $$"
   ]
  },
  {
   "cell_type": "markdown",
   "metadata": {},
   "source": [
    "---"
   ]
  },
  {
   "cell_type": "markdown",
   "metadata": {},
   "source": [
    "### Resolvendo o seguinte problema:\n",
    "\n",
    "$$\n",
    "\\begin{equation*}\n",
    "\\left\\{\n",
    "\\begin{gathered}\n",
    "x_1 + 2 x_2 - x_3 = 2 \\\\\n",
    "2 x_1 - x_2 + x_3 = 3 \\\\\n",
    "x_1 + x_2 + x_3 = 6\n",
    "\\end{gathered}\n",
    "\\right.\n",
    "\\end{equation*}\n",
    "$$"
   ]
  },
  {
   "cell_type": "code",
   "execution_count": 62,
   "metadata": {},
   "outputs": [],
   "source": [
    "A = np.array([ [1, 2, -1], [2, -1, 1], [1, 1, 1]])"
   ]
  },
  {
   "cell_type": "code",
   "execution_count": 63,
   "metadata": {},
   "outputs": [],
   "source": [
    "b = np.array([2, 3, 6])"
   ]
  },
  {
   "cell_type": "markdown",
   "metadata": {},
   "source": [
    "### Resolvendo o sistema $A x = b$ com o método solve()"
   ]
  },
  {
   "cell_type": "code",
   "execution_count": 64,
   "metadata": {},
   "outputs": [
    {
     "data": {
      "text/plain": [
       "array([1., 2., 3.])"
      ]
     },
     "execution_count": 64,
     "metadata": {},
     "output_type": "execute_result"
    }
   ],
   "source": [
    "np.linalg.solve(A, b)"
   ]
  },
  {
   "cell_type": "markdown",
   "metadata": {},
   "source": [
    "### Resolvendo o sistema de equações lineares por $x = A^{-1} b$"
   ]
  },
  {
   "cell_type": "code",
   "execution_count": 65,
   "metadata": {},
   "outputs": [
    {
     "data": {
      "text/plain": [
       "array([2, 3, 6])"
      ]
     },
     "execution_count": 65,
     "metadata": {},
     "output_type": "execute_result"
    }
   ],
   "source": [
    "b[: None]"
   ]
  },
  {
   "cell_type": "code",
   "execution_count": 66,
   "metadata": {},
   "outputs": [
    {
     "data": {
      "text/plain": [
       "array([1., 2., 3.])"
      ]
     },
     "execution_count": 66,
     "metadata": {},
     "output_type": "execute_result"
    }
   ],
   "source": [
    "np.linalg.inv(A) @ b[: None]"
   ]
  },
  {
   "cell_type": "markdown",
   "metadata": {},
   "source": [
    "### Resolvendo o sistema de equações lineares por $x = \\left( A^\\top A \\right)^{-1} A^\\top b$"
   ]
  },
  {
   "cell_type": "code",
   "execution_count": 67,
   "metadata": {},
   "outputs": [
    {
     "data": {
      "text/plain": [
       "array([1., 2., 3.])"
      ]
     },
     "execution_count": 67,
     "metadata": {},
     "output_type": "execute_result"
    }
   ],
   "source": [
    "np.linalg.inv(A.T @ A) @ A.T @ b[: None]"
   ]
  },
  {
   "cell_type": "markdown",
   "metadata": {},
   "source": [
    "$\\text{tr}(A**2 + 3*B) + \\text{det} (5*A)$"
   ]
  },
  {
   "cell_type": "code",
   "execution_count": 68,
   "metadata": {},
   "outputs": [
    {
     "data": {
      "text/plain": [
       "-866.0000000000005"
      ]
     },
     "execution_count": 68,
     "metadata": {},
     "output_type": "execute_result"
    }
   ],
   "source": [
    "np.trace(A**2+3*B) + np.linalg.det(5*A)"
   ]
  },
  {
   "cell_type": "markdown",
   "metadata": {},
   "source": [
    "----"
   ]
  },
  {
   "cell_type": "markdown",
   "metadata": {},
   "source": [
    "### Dada uma matriz aleatória $K$ que seja simétrica, mostre as propriedades abaixo:"
   ]
  },
  {
   "cell_type": "markdown",
   "metadata": {},
   "source": [
    "$$\n",
    "\\left( K^{-1} \\right)_{LL} = \\left( K_{LL} - K_{UL}^\\top K_{UU}^{-1} K_{UL} \\right)^{-1}\n",
    "$$"
   ]
  },
  {
   "cell_type": "markdown",
   "metadata": {},
   "source": [
    "### Assuma a seguinte partição:\n",
    "\n",
    "\n",
    "$$K = \n",
    "\\left[\n",
    "\\begin{array}{cc}\n",
    "K_{LL} & K_{LU} \\\\\n",
    "K_{UL} & K_{UU}\n",
    "\\end{array}\n",
    "\\right]\n",
    "$$\n",
    "\n",
    "### Sugestão n = 20, l = 5"
   ]
  },
  {
   "cell_type": "code",
   "execution_count": 32,
   "metadata": {},
   "outputs": [],
   "source": [
    "X = np.random.random((3,3))"
   ]
  },
  {
   "cell_type": "code",
   "execution_count": 33,
   "metadata": {},
   "outputs": [
    {
     "data": {
      "text/plain": [
       "array([[0.55731242, 0.77084951, 0.23536808],\n",
       "       [0.46026454, 0.12514603, 0.29592505],\n",
       "       [0.23811104, 0.38567593, 0.76675529]])"
      ]
     },
     "execution_count": 33,
     "metadata": {},
     "output_type": "execute_result"
    }
   ],
   "source": [
    "X"
   ]
  },
  {
   "cell_type": "code",
   "execution_count": 34,
   "metadata": {},
   "outputs": [],
   "source": [
    "X = (X + X.T)/2"
   ]
  },
  {
   "cell_type": "code",
   "execution_count": 35,
   "metadata": {},
   "outputs": [
    {
     "data": {
      "text/plain": [
       "array([[0.55731242, 0.61555702, 0.23673956],\n",
       "       [0.61555702, 0.12514603, 0.34080049],\n",
       "       [0.23673956, 0.34080049, 0.76675529]])"
      ]
     },
     "execution_count": 35,
     "metadata": {},
     "output_type": "execute_result"
    }
   ],
   "source": [
    "X"
   ]
  },
  {
   "cell_type": "code",
   "execution_count": 2,
   "metadata": {},
   "outputs": [],
   "source": [
    "import numpy as np"
   ]
  },
  {
   "cell_type": "code",
   "execution_count": 4,
   "metadata": {},
   "outputs": [],
   "source": [
    "n = 20\n",
    "l = 5"
   ]
  },
  {
   "cell_type": "code",
   "execution_count": 21,
   "metadata": {},
   "outputs": [],
   "source": [
    "K = np.random.random((n,n))"
   ]
  },
  {
   "cell_type": "code",
   "execution_count": 22,
   "metadata": {},
   "outputs": [],
   "source": [
    "K = (K + K.T)/2"
   ]
  },
  {
   "cell_type": "code",
   "execution_count": 23,
   "metadata": {},
   "outputs": [],
   "source": [
    "K_ll = K[0:l, 0:l]"
   ]
  },
  {
   "cell_type": "code",
   "execution_count": 24,
   "metadata": {},
   "outputs": [],
   "source": [
    "K_uu = K[l:, l:]"
   ]
  },
  {
   "cell_type": "code",
   "execution_count": 25,
   "metadata": {},
   "outputs": [],
   "source": [
    "K_lu = K[0:l, l:]"
   ]
  },
  {
   "cell_type": "code",
   "execution_count": 26,
   "metadata": {},
   "outputs": [],
   "source": [
    "K_ul = K[l:, 0:l]"
   ]
  },
  {
   "cell_type": "code",
   "execution_count": 13,
   "metadata": {},
   "outputs": [
    {
     "data": {
      "text/plain": [
       "array([[0.29106453, 0.07475972, 0.44920844, 0.91837758, 0.18309377],\n",
       "       [0.50315881, 0.84204873, 0.90638387, 0.06801109, 0.51216723],\n",
       "       [0.00713814, 0.88031468, 0.95007436, 0.46414845, 0.9082631 ],\n",
       "       [0.46552465, 0.87520623, 0.20740511, 0.94415891, 0.78816711],\n",
       "       [0.58112091, 0.83374847, 0.35256796, 0.08382   , 0.38829303],\n",
       "       [0.53247459, 0.74383378, 0.62261977, 0.92835188, 0.78901252],\n",
       "       [0.90219596, 0.66664445, 0.45934828, 0.11404063, 0.97477446],\n",
       "       [0.99103065, 0.67442522, 0.26762234, 0.08236359, 0.34907412],\n",
       "       [0.81563234, 0.0624146 , 0.05477137, 0.31671824, 0.99055413],\n",
       "       [0.0946799 , 0.75413293, 0.46857751, 0.44156969, 0.09831961],\n",
       "       [0.66371131, 0.83675223, 0.97810683, 0.40602082, 0.87333619],\n",
       "       [0.44443528, 0.07199087, 0.42509134, 0.45357315, 0.35537916],\n",
       "       [0.61496792, 0.10938557, 0.23813234, 0.18588767, 0.54482737],\n",
       "       [0.4591308 , 0.26813405, 0.01239028, 0.72270364, 0.44778752],\n",
       "       [0.62068806, 0.54583216, 0.34971078, 0.30746787, 0.6057869 ]])"
      ]
     },
     "execution_count": 13,
     "metadata": {},
     "output_type": "execute_result"
    }
   ],
   "source": [
    "K_ul"
   ]
  },
  {
   "cell_type": "markdown",
   "metadata": {},
   "source": [
    "$$\n",
    "\\left( K^{-1} \\right)_{LL} = \\left( K_{LL} - K_{UL}^\\top K_{UU}^{-1} K_{UL} \\right)^{-1}\n",
    "$$"
   ]
  },
  {
   "cell_type": "markdown",
   "metadata": {},
   "source": [
    "### Computando $\\left( K^{-1} \\right)_{LL}$"
   ]
  },
  {
   "cell_type": "code",
   "execution_count": 31,
   "metadata": {},
   "outputs": [
    {
     "data": {
      "text/plain": [
       "array([[ 21.7484701 ,  25.54565463,  14.76479505,  -0.20415385,\n",
       "        -24.41464099],\n",
       "       [ 25.54565463,  31.25100847,  18.632708  ,  -1.04764624,\n",
       "        -27.62911391],\n",
       "       [ 14.76479505,  18.632708  ,  10.7662054 ,  -0.2396243 ,\n",
       "        -16.69330828],\n",
       "       [ -0.20415385,  -1.04764624,  -0.2396243 ,  -0.85392883,\n",
       "          0.33401413],\n",
       "       [-24.41464099, -27.62911391, -16.69330828,   0.33401413,\n",
       "         25.56741626]])"
      ]
     },
     "execution_count": 31,
     "metadata": {},
     "output_type": "execute_result"
    }
   ],
   "source": [
    "np.linalg.inv(K)[0:l, 0:l]"
   ]
  },
  {
   "cell_type": "markdown",
   "metadata": {},
   "source": [
    "### Computando $\\left( K_{LL} - K_{UL}^\\top K_{UU}^{-1} K_{UL} \\right)^{-1}$"
   ]
  },
  {
   "cell_type": "code",
   "execution_count": 30,
   "metadata": {},
   "outputs": [
    {
     "data": {
      "text/plain": [
       "array([[ 21.7484701 ,  25.54565463,  14.76479505,  -0.20415385,\n",
       "        -24.41464099],\n",
       "       [ 25.54565463,  31.25100847,  18.632708  ,  -1.04764624,\n",
       "        -27.62911391],\n",
       "       [ 14.76479505,  18.632708  ,  10.7662054 ,  -0.2396243 ,\n",
       "        -16.69330828],\n",
       "       [ -0.20415385,  -1.04764624,  -0.2396243 ,  -0.85392883,\n",
       "          0.33401413],\n",
       "       [-24.41464099, -27.62911391, -16.69330828,   0.33401413,\n",
       "         25.56741626]])"
      ]
     },
     "execution_count": 30,
     "metadata": {},
     "output_type": "execute_result"
    }
   ],
   "source": [
    "np.linalg.inv(K_ll - K_ul.T @ np.linalg.inv(K_uu) @ K_ul)"
   ]
  },
  {
   "cell_type": "markdown",
   "metadata": {},
   "source": [
    "---"
   ]
  },
  {
   "cell_type": "markdown",
   "metadata": {},
   "source": [
    "<h2>3.6. Aplicação em processamento de imagens</h2>"
   ]
  },
  {
   "cell_type": "code",
   "execution_count": 36,
   "metadata": {},
   "outputs": [],
   "source": [
    "from scipy import misc"
   ]
  },
  {
   "cell_type": "code",
   "execution_count": 37,
   "metadata": {},
   "outputs": [],
   "source": [
    "img = misc.face()"
   ]
  },
  {
   "cell_type": "code",
   "execution_count": 38,
   "metadata": {},
   "outputs": [],
   "source": [
    "import matplotlib.pyplot as plt"
   ]
  },
  {
   "cell_type": "code",
   "execution_count": 39,
   "metadata": {},
   "outputs": [
    {
     "data": {
      "text/plain": [
       "<matplotlib.image.AxesImage at 0x1893185efd0>"
      ]
     },
     "execution_count": 39,
     "metadata": {},
     "output_type": "execute_result"
    },
    {
     "data": {
      "image/png": "[encoded data removed]",
      "text/plain": [
       "<Figure size 432x288 with 1 Axes>"
      ]
     },
     "metadata": {
      "needs_background": "light"
     },
     "output_type": "display_data"
    }
   ],
   "source": [
    "plt.imshow(img)"
   ]
  },
  {
   "cell_type": "markdown",
   "metadata": {},
   "source": [
    "### Verificando a propriedade shape "
   ]
  },
  {
   "cell_type": "code",
   "execution_count": 40,
   "metadata": {},
   "outputs": [
    {
     "data": {
      "text/plain": [
       "(768, 1024, 3)"
      ]
     },
     "execution_count": 40,
     "metadata": {},
     "output_type": "execute_result"
    }
   ],
   "source": [
    "img.shape"
   ]
  },
  {
   "cell_type": "markdown",
   "metadata": {},
   "source": [
    "### Normalização de pixels"
   ]
  },
  {
   "cell_type": "code",
   "execution_count": 41,
   "metadata": {},
   "outputs": [],
   "source": [
    "img_array = img / 255"
   ]
  },
  {
   "cell_type": "code",
   "execution_count": 42,
   "metadata": {},
   "outputs": [
    {
     "data": {
      "text/plain": [
       "array([[[0.4745098 , 0.43921569, 0.51372549],\n",
       "        [0.54117647, 0.50588235, 0.58039216],\n",
       "        [0.6       , 0.56470588, 0.64705882],\n",
       "        ...,\n",
       "        [0.46666667, 0.49411765, 0.29019608],\n",
       "        [0.51372549, 0.53333333, 0.32156863],\n",
       "        [0.54509804, 0.56470588, 0.35294118]],\n",
       "\n",
       "       [[0.34901961, 0.32156863, 0.39215686],\n",
       "        [0.43137255, 0.40392157, 0.4745098 ],\n",
       "        [0.50980392, 0.47843137, 0.56078431],\n",
       "        ...,\n",
       "        [0.4627451 , 0.49019608, 0.27843137],\n",
       "        [0.5254902 , 0.55294118, 0.34117647],\n",
       "        [0.57254902, 0.6       , 0.38823529]],\n",
       "\n",
       "       [[0.28627451, 0.25882353, 0.32941176],\n",
       "        [0.36862745, 0.34117647, 0.41176471],\n",
       "        [0.45098039, 0.42352941, 0.49411765],\n",
       "        ...,\n",
       "        [0.45882353, 0.49411765, 0.27843137],\n",
       "        [0.52156863, 0.55686275, 0.34117647],\n",
       "        [0.56470588, 0.6       , 0.38431373]],\n",
       "\n",
       "       ...,\n",
       "\n",
       "       [[0.34117647, 0.41568627, 0.29803922],\n",
       "        [0.36862745, 0.43137255, 0.31764706],\n",
       "        [0.41960784, 0.48627451, 0.36078431],\n",
       "        ...,\n",
       "        [0.47058824, 0.61960784, 0.38039216],\n",
       "        [0.46666667, 0.61568627, 0.37647059],\n",
       "        [0.46666667, 0.61960784, 0.37254902]],\n",
       "\n",
       "       [[0.33333333, 0.39607843, 0.28235294],\n",
       "        [0.37254902, 0.43529412, 0.32156863],\n",
       "        [0.43921569, 0.49803922, 0.37647059],\n",
       "        ...,\n",
       "        [0.4745098 , 0.61568627, 0.37647059],\n",
       "        [0.47058824, 0.61176471, 0.36862745],\n",
       "        [0.47058824, 0.61176471, 0.36862745]],\n",
       "\n",
       "       [[0.33333333, 0.39607843, 0.29019608],\n",
       "        [0.38039216, 0.44313725, 0.32941176],\n",
       "        [0.43529412, 0.49411765, 0.38039216],\n",
       "        ...,\n",
       "        [0.47058824, 0.61176471, 0.37254902],\n",
       "        [0.46666667, 0.60784314, 0.36470588],\n",
       "        [0.4627451 , 0.60392157, 0.36078431]]])"
      ]
     },
     "execution_count": 42,
     "metadata": {},
     "output_type": "execute_result"
    }
   ],
   "source": [
    "img_array"
   ]
  },
  {
   "cell_type": "markdown",
   "metadata": {},
   "source": [
    "### Imagem para cada canal (RGB)"
   ]
  },
  {
   "cell_type": "code",
   "execution_count": 43,
   "metadata": {},
   "outputs": [
    {
     "data": {
      "text/plain": [
       "array([[0.4745098 , 0.54117647, 0.6       , ..., 0.46666667, 0.51372549,\n",
       "        0.54509804],\n",
       "       [0.34901961, 0.43137255, 0.50980392, ..., 0.4627451 , 0.5254902 ,\n",
       "        0.57254902],\n",
       "       [0.28627451, 0.36862745, 0.45098039, ..., 0.45882353, 0.52156863,\n",
       "        0.56470588],\n",
       "       ...,\n",
       "       [0.34117647, 0.36862745, 0.41960784, ..., 0.47058824, 0.46666667,\n",
       "        0.46666667],\n",
       "       [0.33333333, 0.37254902, 0.43921569, ..., 0.4745098 , 0.47058824,\n",
       "        0.47058824],\n",
       "       [0.33333333, 0.38039216, 0.43529412, ..., 0.47058824, 0.46666667,\n",
       "        0.4627451 ]])"
      ]
     },
     "execution_count": 43,
     "metadata": {},
     "output_type": "execute_result"
    }
   ],
   "source": [
    "img_array[:, :, 0]"
   ]
  },
  {
   "cell_type": "code",
   "execution_count": 44,
   "metadata": {},
   "outputs": [],
   "source": [
    "red_array = img_array[:, :, 0]\n",
    "green_array = img_array[:, :, 1]\n",
    "blue_array = img_array[:, :, 2]"
   ]
  },
  {
   "cell_type": "code",
   "execution_count": 45,
   "metadata": {},
   "outputs": [
    {
     "data": {
      "text/plain": [
       "array([[0.4745098 , 0.54117647, 0.6       , ..., 0.46666667, 0.51372549,\n",
       "        0.54509804],\n",
       "       [0.34901961, 0.43137255, 0.50980392, ..., 0.4627451 , 0.5254902 ,\n",
       "        0.57254902],\n",
       "       [0.28627451, 0.36862745, 0.45098039, ..., 0.45882353, 0.52156863,\n",
       "        0.56470588],\n",
       "       ...,\n",
       "       [0.34117647, 0.36862745, 0.41960784, ..., 0.47058824, 0.46666667,\n",
       "        0.46666667],\n",
       "       [0.33333333, 0.37254902, 0.43921569, ..., 0.4745098 , 0.47058824,\n",
       "        0.47058824],\n",
       "       [0.33333333, 0.38039216, 0.43529412, ..., 0.47058824, 0.46666667,\n",
       "        0.4627451 ]])"
      ]
     },
     "execution_count": 45,
     "metadata": {},
     "output_type": "execute_result"
    }
   ],
   "source": [
    "red_array"
   ]
  },
  {
   "cell_type": "code",
   "execution_count": 46,
   "metadata": {},
   "outputs": [
    {
     "data": {
      "text/plain": [
       "array([[0.43921569, 0.50588235, 0.56470588, ..., 0.49411765, 0.53333333,\n",
       "        0.56470588],\n",
       "       [0.32156863, 0.40392157, 0.47843137, ..., 0.49019608, 0.55294118,\n",
       "        0.6       ],\n",
       "       [0.25882353, 0.34117647, 0.42352941, ..., 0.49411765, 0.55686275,\n",
       "        0.6       ],\n",
       "       ...,\n",
       "       [0.41568627, 0.43137255, 0.48627451, ..., 0.61960784, 0.61568627,\n",
       "        0.61960784],\n",
       "       [0.39607843, 0.43529412, 0.49803922, ..., 0.61568627, 0.61176471,\n",
       "        0.61176471],\n",
       "       [0.39607843, 0.44313725, 0.49411765, ..., 0.61176471, 0.60784314,\n",
       "        0.60392157]])"
      ]
     },
     "execution_count": 46,
     "metadata": {},
     "output_type": "execute_result"
    }
   ],
   "source": [
    "green_array"
   ]
  },
  {
   "cell_type": "markdown",
   "metadata": {},
   "source": [
    "---"
   ]
  },
  {
   "cell_type": "code",
   "execution_count": 47,
   "metadata": {},
   "outputs": [],
   "source": [
    "from numpy import linalg"
   ]
  },
  {
   "cell_type": "code",
   "execution_count": 56,
   "metadata": {},
   "outputs": [],
   "source": [
    "img_gray = img_array @ [0.2126, 0.7152, 0.0722]"
   ]
  },
  {
   "cell_type": "code",
   "execution_count": 55,
   "metadata": {},
   "outputs": [
    {
     "data": {
      "text/plain": [
       "array([[0.47098039, 0.53764706, 0.59647059, ..., 0.46941176, 0.51568627,\n",
       "        0.54705882],\n",
       "       [0.34627451, 0.42862745, 0.50666667, ..., 0.4654902 , 0.52823529,\n",
       "        0.57529412],\n",
       "       [0.28352941, 0.36588235, 0.44823529, ..., 0.46235294, 0.52509804,\n",
       "        0.56823529],\n",
       "       ...,\n",
       "       [0.34862745, 0.37490196, 0.42627451, ..., 0.4854902 , 0.48156863,\n",
       "        0.48196078],\n",
       "       [0.33960784, 0.37882353, 0.44509804, ..., 0.48862745, 0.48470588,\n",
       "        0.48470588],\n",
       "       [0.33960784, 0.38666667, 0.44117647, ..., 0.48470588, 0.48078431,\n",
       "        0.47686275]])"
      ]
     },
     "execution_count": 55,
     "metadata": {},
     "output_type": "execute_result"
    }
   ],
   "source": [
    "img_gray"
   ]
  },
  {
   "cell_type": "code",
   "execution_count": 49,
   "metadata": {},
   "outputs": [
    {
     "data": {
      "text/plain": [
       "array([[0.45209882, 0.51876549, 0.57815529, ..., 0.47355843, 0.51387529,\n",
       "        0.54524784],\n",
       "       [0.33250118, 0.41485412, 0.49104706, ..., 0.46907059, 0.53181569,\n",
       "        0.57887451],\n",
       "       [0.26975608, 0.35210902, 0.43446196, ..., 0.47104157, 0.53378667,\n",
       "        0.57692392],\n",
       "       ...,\n",
       "       [0.39135137, 0.40982196, 0.46304078, ..., 0.5706549 , 0.56673333,\n",
       "        0.5692549 ],\n",
       "       [0.37452784, 0.41374353, 0.47675608, ..., 0.56840078, 0.56419608,\n",
       "        0.56419608],\n",
       "       [0.37509412, 0.42158667, 0.47340078, ..., 0.56447922, 0.56027451,\n",
       "        0.55635294]])"
      ]
     },
     "execution_count": 49,
     "metadata": {},
     "output_type": "execute_result"
    }
   ],
   "source": [
    "img_gray"
   ]
  },
  {
   "cell_type": "code",
   "execution_count": 54,
   "metadata": {},
   "outputs": [
    {
     "data": {
      "text/plain": [
       "<matplotlib.image.AxesImage at 0x189346bc400>"
      ]
     },
     "execution_count": 54,
     "metadata": {},
     "output_type": "execute_result"
    },
    {
     "data": {
      "image/png": "[encoded data removed]",
      "text/plain": [
       "<Figure size 432x288 with 1 Axes>"
      ]
     },
     "metadata": {
      "needs_background": "light"
     },
     "output_type": "display_data"
    }
   ],
   "source": [
    "plt.imshow(img_gray, cmap=\"gray\")"
   ]
  },
  {
   "cell_type": "code",
   "execution_count": 57,
   "metadata": {},
   "outputs": [],
   "source": [
    "U, s, Vt = linalg.svd(img_gray)"
   ]
  },
  {
   "cell_type": "code",
   "execution_count": 58,
   "metadata": {},
   "outputs": [
    {
     "data": {
      "text/plain": [
       "((768, 768), (768,), (1024, 1024))"
      ]
     },
     "execution_count": 58,
     "metadata": {},
     "output_type": "execute_result"
    }
   ],
   "source": [
    "U.shape, s.shape, Vt.shape"
   ]
  },
  {
   "cell_type": "code",
   "execution_count": 59,
   "metadata": {},
   "outputs": [],
   "source": [
    "Sigma = np.zeros((768, 1024))"
   ]
  },
  {
   "cell_type": "code",
   "execution_count": 60,
   "metadata": {},
   "outputs": [],
   "source": [
    "for i in range(768):\n",
    "    Sigma[i, i] = s[i]"
   ]
  },
  {
   "cell_type": "code",
   "execution_count": 61,
   "metadata": {},
   "outputs": [
    {
     "data": {
      "text/plain": [
       "1.3611854211568847e-12"
      ]
     },
     "execution_count": 61,
     "metadata": {},
     "output_type": "execute_result"
    }
   ],
   "source": [
    "linalg.norm(img_gray - U @ Sigma @ Vt)"
   ]
  },
  {
   "cell_type": "code",
   "execution_count": 62,
   "metadata": {},
   "outputs": [
    {
     "data": {
      "text/plain": [
       "True"
      ]
     },
     "execution_count": 62,
     "metadata": {},
     "output_type": "execute_result"
    }
   ],
   "source": [
    "np.allclose(img_gray, U @ Sigma @ Vt)"
   ]
  },
  {
   "cell_type": "markdown",
   "metadata": {},
   "source": [
    "### aproximação do SVD com k autovetores"
   ]
  },
  {
   "cell_type": "code",
   "execution_count": 72,
   "metadata": {},
   "outputs": [],
   "source": [
    "k = 10"
   ]
  },
  {
   "cell_type": "code",
   "execution_count": 73,
   "metadata": {},
   "outputs": [],
   "source": [
    "approx = U @ Sigma[:, :k] @ Vt[:k, :]"
   ]
  },
  {
   "cell_type": "code",
   "execution_count": 74,
   "metadata": {},
   "outputs": [
    {
     "data": {
      "text/plain": [
       "<matplotlib.image.AxesImage at 0x189366c1b80>"
      ]
     },
     "execution_count": 74,
     "metadata": {},
     "output_type": "execute_result"
    },
    {
     "data": {
      "image/png": "[encoded data removed]",
      "text/plain": [
       "<Figure size 432x288 with 1 Axes>"
      ]
     },
     "metadata": {
      "needs_background": "light"
     },
     "output_type": "display_data"
    }
   ],
   "source": [
    "plt.imshow(approx, cmap=\"gray\")"
   ]
  },
  {
   "cell_type": "markdown",
   "metadata": {},
   "source": [
    "---"
   ]
  },
  {
   "cell_type": "markdown",
   "metadata": {},
   "source": [
    "<img src=\"https://cienciadedadosnaveia.com/wp-content/uploads/2021/04/logo_CDV.png\" width=\"200px\">"
   ]
  }
 ],
 "metadata": {
  "kernelspec": {
   "display_name": "Python 3",
   "language": "python",
   "name": "python3"
  },
  "language_info": {
   "codemirror_mode": {
    "name": "ipython",
    "version": 3
   },
   "file_extension": ".py",
   "mimetype": "text/x-python",
   "name": "python",
   "nbconvert_exporter": "python",
   "pygments_lexer": "ipython3",
   "version": "3.7.4"
  }
 },
 "nbformat": 4,
 "nbformat_minor": 4
}
