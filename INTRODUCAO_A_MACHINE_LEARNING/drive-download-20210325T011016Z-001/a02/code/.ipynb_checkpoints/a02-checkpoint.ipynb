{
 "cells": [
  {
   "cell_type": "markdown",
   "metadata": {},
   "source": [
    "<img style=\"float: right;\" src=\"fig/unifor.jpg\" width=\"250px\">\n",
    "\n",
    "# Introdução ao Aprendizado de Máquina\n",
    "Prof. Erneson A. Oliveira<br>\n",
    "MBA em Ciência de Dados<br>\n",
    "Universidade de Fortaleza"
   ]
  },
  {
   "cell_type": "markdown",
   "metadata": {},
   "source": [
    "# 1. Dinheiro torna as pessoas felizes?"
   ]
  },
  {
   "cell_type": "markdown",
   "metadata": {},
   "source": [
    "<img src=\"fig/dicaprio.jpg\" width=\"800px\">"
   ]
  },
  {
   "cell_type": "markdown",
   "metadata": {},
   "source": [
    "## 1.1 Será que existem dados para responder essa pergunta?\n",
    "\n",
    "Podemos combinar os dados de Renda (FMI) e Satisfação (OCDE)."
   ]
  },
  {
   "cell_type": "markdown",
   "metadata": {},
   "source": [
    "<img src=\"fig/tab1_01.jpg\" width=\"400px\">"
   ]
  },
  {
   "cell_type": "markdown",
   "metadata": {},
   "source": [
    "## 1.2 Será que existe alguma tendência?\n",
    "\n",
    "Podemos olhar o gráfico de dispersão."
   ]
  },
  {
   "cell_type": "markdown",
   "metadata": {},
   "source": [
    "<img src=\"fig/fig1_17.jpg\" width=\"800px\">\n",
    "\n",
    "Sim! A satisfação parece crescer linearmente com a renda."
   ]
  },
  {
   "cell_type": "markdown",
   "metadata": {},
   "source": [
    "## 1.3 Como descrever esse comportamento?\n",
    "\n",
    "Podemos descrever através de uma <b>Regressão Linear Simples</b> para satisfação ($S$) em relação à renda ($R$):\n",
    "\n",
    "\\begin{equation}\n",
    "S=\\theta_0+\\theta_1 R,\n",
    "\\end{equation}\n",
    "\n",
    "onde $\\theta_0$ e $\\theta_1$ são parâmetros da regressão."
   ]
  },
  {
   "cell_type": "markdown",
   "metadata": {},
   "source": [
    "<img src=\"fig/fig1_18.jpg\" width=\"800px\">"
   ]
  },
  {
   "cell_type": "markdown",
   "metadata": {},
   "source": [
    "## 1.4 Função Custo\n",
    "\n",
    "Função associada ao objetivo de um problema de otimização."
   ]
  },
  {
   "cell_type": "markdown",
   "metadata": {},
   "source": [
    "<img src=\"fig/regression.jpg\" width=\"600px\">"
   ]
  },
  {
   "cell_type": "markdown",
   "metadata": {},
   "source": [
    "Para problemas de regressão linear, podemos minimizar a função custo:\n",
    "\n",
    "\\begin{equation}\n",
    "SSR=\\sum_{i=1}^n e_i^2=\\sum_{i=1}^n (S_i-\\hat{S}_i)^2=\\sum_{i=1}^n (S_i-\\hat{\\theta}_0-\\hat{\\theta}_1 R_i)^2,\n",
    "\\end{equation}\n",
    "onde $SSR$ é a soma dos quadrados dos resíduos (Método dos Mínimos Quadrados). Os parâmetros estimados ficam:\n",
    "\n",
    "\\begin{equation}\n",
    "    \\hat{\\theta}_1=\\frac{\\sum_{i=1}^n (R_i-\\langle R\\rangle)(S_i-\\langle S\\rangle)}{\\sum_{i=1}^n (R_i-\\langle R\\rangle)^2}\n",
    "    \\quad\n",
    "    \\text{e}\n",
    "    \\quad\n",
    "    \\hat{\\theta}_0=\\langle S\\rangle-\\hat{\\theta}_1\\langle R\\rangle,\n",
    "\\end{equation}\n",
    "onde\n",
    "\n",
    "\\begin{equation}\n",
    "    \\langle R\\rangle=\\frac{1}{n}\\sum_{i=1}^n R_i\n",
    "    \\quad\n",
    "    \\text{e}\n",
    "    \\quad\n",
    "    \\langle S\\rangle=\\frac{1}{n}\\sum_{i=1}^n S_i.\n",
    "\\end{equation}"
   ]
  },
  {
   "cell_type": "markdown",
   "metadata": {},
   "source": [
    "## 1.5 Ajuste da Regressão Linear\n",
    "\n",
    "O resultado é estimado através das expressões anteriores."
   ]
  },
  {
   "cell_type": "markdown",
   "metadata": {},
   "source": [
    "<img src=\"fig/fig1_19.jpg\" width=\"600px\">"
   ]
  },
  {
   "cell_type": "code",
   "execution_count": 1,
   "metadata": {},
   "outputs": [
    {
     "name": "stdout",
     "output_type": "stream",
     "text": [
      "4.911544589158482e-05 4.853052800266436 0.7344414355437027\n"
     ]
    }
   ],
   "source": [
    "import pandas as pd\n",
    "import numpy as np\n",
    "from scipy import stats\n",
    "\n",
    "df=pd.read_csv('datasets/imf_oecd.csv',sep=';',encoding='utf-8')\n",
    "\n",
    "x=np.array(df['GDP per capita'])\n",
    "y=np.array(df['Life satisfaction'])\n",
    "\n",
    "theta_1, theta_0, r_value, p_value, std_err = stats.linregress(x,y)\n",
    "\n",
    "print(theta_1,theta_0,r_value**2)"
   ]
  },
  {
   "cell_type": "markdown",
   "metadata": {},
   "source": [
    "## 1.6 Podemos fazer previsões (inferências)?\n",
    "\n",
    "Sim! Por exemplo, a satisfação $S$ para um país qualquer que tenha renda $R=22587$ é:\n",
    "\n",
    "\\begin{equation}\n",
    "S=\\theta_0+\\theta_1 R=4.85+(4.91\\times 10^{-5})\\times 22587 = 5.962\n",
    "\\end{equation}"
   ]
  },
  {
   "cell_type": "code",
   "execution_count": 2,
   "metadata": {},
   "outputs": [
    {
     "name": "stdout",
     "output_type": "stream",
     "text": [
      "5.962423376619663\n"
     ]
    }
   ],
   "source": [
    "R=22587\n",
    "S=theta_0+theta_1*R\n",
    "print(S)"
   ]
  }
 ],
 "metadata": {
  "kernelspec": {
   "display_name": "Python (.venv)",
   "language": "python",
   "name": ".venv"
  },
  "language_info": {
   "codemirror_mode": {
    "name": "ipython",
    "version": 3
   },
   "file_extension": ".py",
   "mimetype": "text/x-python",
   "name": "python",
   "nbconvert_exporter": "python",
   "pygments_lexer": "ipython3",
   "version": "3.8.5"
  }
 },
 "nbformat": 4,
 "nbformat_minor": 2
}
