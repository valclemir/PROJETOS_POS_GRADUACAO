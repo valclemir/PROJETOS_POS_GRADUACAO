{
 "cells": [
  {
   "cell_type": "markdown",
   "metadata": {},
   "source": [
    "# Aula 3 - Projeto de Aprendizado de Máquina\n",
    "\n",
    "Professor: Erneson A. Oliveira<br>\n",
    "Curso: MBA em Ciência de Dados<br>\n",
    "Universidade: Universidade de Fortaleza<br>\n",
    "Data: 8 de Fevereiro de 2020"
   ]
  },
  {
   "cell_type": "markdown",
   "metadata": {},
   "source": [
    "# 1. Base de dados"
   ]
  },
  {
   "cell_type": "code",
   "execution_count": 1,
   "metadata": {},
   "outputs": [],
   "source": [
    "import pandas as pd\n",
    "\n",
    "housing=pd.read_csv('housing.csv',sep=';',encoding='utf-8')"
   ]
  },
  {
   "cell_type": "markdown",
   "metadata": {},
   "source": [
    "# 2. Conjunto de treinamento e conjunto de teste"
   ]
  },
  {
   "cell_type": "code",
   "execution_count": 2,
   "metadata": {},
   "outputs": [],
   "source": [
    "from sklearn.model_selection import train_test_split # Use if data is large enough\n",
    "\n",
    "test_size=0.2 # Test set size: 20%\n",
    "random_state=42 # Random seed\n",
    "\n",
    "train_set,test_set=train_test_split(housing,test_size=test_size,random_state=random_state)"
   ]
  },
  {
   "cell_type": "markdown",
   "metadata": {},
   "source": [
    "# 3. Preparar o dado para modelos de AM"
   ]
  },
  {
   "cell_type": "code",
   "execution_count": 3,
   "metadata": {},
   "outputs": [],
   "source": [
    "housing=train_set.drop('median_house_value',axis=1) # X\n",
    "housing_labels=train_set['median_house_value'].copy() # y\n",
    "\n",
    "from sklearn.base import BaseEstimator, TransformerMixin\n",
    "\n",
    "class DataFrameSelector(BaseEstimator, TransformerMixin):\n",
    "    def __init__(self, attribute_names):\n",
    "        self.attribute_names = attribute_names\n",
    "    \n",
    "    def fit(self, X, y=None):\n",
    "        return self\n",
    "    \n",
    "    def transform(self, X):\n",
    "        return X[self.attribute_names].values\n",
    "\n",
    "from sklearn.pipeline import Pipeline\n",
    "from sklearn.impute import SimpleImputer\n",
    "from sklearn.preprocessing import StandardScaler\n",
    "from sklearn.preprocessing import OneHotEncoder\n",
    "from sklearn.pipeline import FeatureUnion\n",
    "\n",
    "housing_cat=['ocean_proximity'] # Categorical columns only\n",
    "housing_num=housing.drop(housing_cat,axis=1) # Numerical columns only\n",
    "\n",
    "num_attribs = list(housing_num)\n",
    "cat_attribs = housing_cat\n",
    "\n",
    "num_pipeline = Pipeline([\n",
    "        ('selector', DataFrameSelector(num_attribs)),\n",
    "        ('imputer', SimpleImputer(strategy=\"median\")),\n",
    "        ('std_scaler', StandardScaler()),\n",
    "    ])\n",
    "\n",
    "cat_pipeline = Pipeline([\n",
    "        ('selector', DataFrameSelector(cat_attribs)),\n",
    "        ('cat_encoder', OneHotEncoder(sparse=False)),\n",
    "    ])\n",
    "\n",
    "full_pipeline = FeatureUnion(transformer_list=[\n",
    "        (\"num_pipeline\", num_pipeline),\n",
    "        (\"cat_pipeline\", cat_pipeline),\n",
    "    ])\n",
    "\n",
    "housing_prepared=full_pipeline.fit_transform(housing)"
   ]
  },
  {
   "cell_type": "markdown",
   "metadata": {},
   "source": [
    "# 4. Treinar o modelo"
   ]
  },
  {
   "cell_type": "code",
   "execution_count": 4,
   "metadata": {},
   "outputs": [
    {
     "name": "stdout",
     "output_type": "stream",
     "text": [
      "0.6496324087252945\n",
      "[-5.29409680e+04 -5.42246730e+04  1.37762447e+04 -1.31629870e+04\n",
      "  4.29362062e+04 -4.33337904e+04  1.84967887e+04  7.51809312e+04\n",
      "  1.41487684e+17  1.41487684e+17  1.41487684e+17  1.41487684e+17\n",
      "  1.41487684e+17]\n",
      "-1.4148768429185621e+17\n"
     ]
    }
   ],
   "source": [
    "X=housing_prepared\n",
    "y=housing_labels\n",
    "\n",
    "from sklearn.linear_model import LinearRegression\n",
    "\n",
    "model=LinearRegression()\n",
    "\n",
    "lr=model.fit(X,y)\n",
    "\n",
    "print(model.score(X,y)) # R^2\n",
    "print(lr.coef_) # w_1, w_2, ...\n",
    "print(lr.intercept_) # w_0"
   ]
  },
  {
   "cell_type": "markdown",
   "metadata": {},
   "source": [
    "# 5. Previsão para o conjunto de treinamento"
   ]
  },
  {
   "cell_type": "code",
   "execution_count": 5,
   "metadata": {},
   "outputs": [
    {
     "name": "stdout",
     "output_type": "stream",
     "text": [
      "68437.10704969708\n"
     ]
    }
   ],
   "source": [
    "from sklearn.metrics import mean_squared_error\n",
    "import numpy as np\n",
    "\n",
    "y_hat = model.predict(X)\n",
    "rmse=np.sqrt(mean_squared_error(y,y_hat))\n",
    "\n",
    "print(rmse)"
   ]
  },
  {
   "cell_type": "markdown",
   "metadata": {},
   "source": [
    "# 6. Previsão para o conjunto de teste"
   ]
  },
  {
   "cell_type": "code",
   "execution_count": 6,
   "metadata": {},
   "outputs": [
    {
     "name": "stdout",
     "output_type": "stream",
     "text": [
      "70111.45359120371\n"
     ]
    }
   ],
   "source": [
    "housing=test_set.drop('median_house_value',axis=1) # X\n",
    "housing_labels=test_set['median_house_value'].copy() # y\n",
    "\n",
    "housing_prepared=full_pipeline.fit_transform(housing)\n",
    "\n",
    "X=housing_prepared\n",
    "y=housing_labels\n",
    "\n",
    "y_hat = model.predict(X)\n",
    "rmse=np.sqrt(mean_squared_error(y,y_hat))\n",
    "\n",
    "print(rmse)"
   ]
  },
  {
   "cell_type": "code",
   "execution_count": null,
   "metadata": {},
   "outputs": [],
   "source": []
  }
 ],
 "metadata": {
  "kernelspec": {
   "display_name": "Python 3",
   "language": "python",
   "name": "python3"
  },
  "language_info": {
   "codemirror_mode": {
    "name": "ipython",
    "version": 3
   },
   "file_extension": ".py",
   "mimetype": "text/x-python",
   "name": "python",
   "nbconvert_exporter": "python",
   "pygments_lexer": "ipython3",
   "version": "3.8.1"
  }
 },
 "nbformat": 4,
 "nbformat_minor": 2
}
