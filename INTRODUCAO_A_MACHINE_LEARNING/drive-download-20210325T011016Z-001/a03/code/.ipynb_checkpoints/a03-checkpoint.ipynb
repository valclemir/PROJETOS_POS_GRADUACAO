{
 "cells": [
  {
   "cell_type": "markdown",
   "metadata": {},
   "source": [
    "<img style=\"float: right;\" src=\"fig/unifor.jpg\" width=\"250px\">\n",
    "\n",
    "# Introdução ao Aprendizado de Máquina\n",
    "Prof. Erneson A. Oliveira<br>\n",
    "MBA em Ciência de Dados<br>\n",
    "Universidade de Fortaleza"
   ]
  },
  {
   "cell_type": "markdown",
   "metadata": {},
   "source": [
    "# 1. Como prever preços de habitações?"
   ]
  },
  {
   "cell_type": "markdown",
   "metadata": {},
   "source": [
    "<img src=\"fig/taahm.jpg\" width=\"800px\">"
   ]
  },
  {
   "cell_type": "markdown",
   "metadata": {},
   "source": [
    "## 1.1 Base de dados"
   ]
  },
  {
   "cell_type": "code",
   "execution_count": 4,
   "metadata": {},
   "outputs": [],
   "source": [
    "import pandas as pd\n",
    "\n",
    "housing=pd.read_csv('datasets/housing.csv',sep=';',encoding='utf-8') # Open CSV file"
   ]
  },
  {
   "cell_type": "code",
   "execution_count": 5,
   "metadata": {},
   "outputs": [
    {
     "data": {
      "text/html": [
       "<div>\n",
       "<style scoped>\n",
       "    .dataframe tbody tr th:only-of-type {\n",
       "        vertical-align: middle;\n",
       "    }\n",
       "\n",
       "    .dataframe tbody tr th {\n",
       "        vertical-align: top;\n",
       "    }\n",
       "\n",
       "    .dataframe thead th {\n",
       "        text-align: right;\n",
       "    }\n",
       "</style>\n",
       "<table border=\"1\" class=\"dataframe\">\n",
       "  <thead>\n",
       "    <tr style=\"text-align: right;\">\n",
       "      <th></th>\n",
       "      <th>longitude</th>\n",
       "      <th>latitude</th>\n",
       "      <th>housing_median_age</th>\n",
       "      <th>total_rooms</th>\n",
       "      <th>total_bedrooms</th>\n",
       "      <th>population</th>\n",
       "      <th>households</th>\n",
       "      <th>median_income</th>\n",
       "      <th>median_house_value</th>\n",
       "      <th>ocean_proximity</th>\n",
       "    </tr>\n",
       "  </thead>\n",
       "  <tbody>\n",
       "    <tr>\n",
       "      <th>0</th>\n",
       "      <td>-122.23</td>\n",
       "      <td>37.88</td>\n",
       "      <td>41.0</td>\n",
       "      <td>880.0</td>\n",
       "      <td>129.0</td>\n",
       "      <td>322.0</td>\n",
       "      <td>126.0</td>\n",
       "      <td>8.3252</td>\n",
       "      <td>452600.0</td>\n",
       "      <td>NEAR BAY</td>\n",
       "    </tr>\n",
       "    <tr>\n",
       "      <th>1</th>\n",
       "      <td>-122.22</td>\n",
       "      <td>37.86</td>\n",
       "      <td>21.0</td>\n",
       "      <td>7099.0</td>\n",
       "      <td>1106.0</td>\n",
       "      <td>2401.0</td>\n",
       "      <td>1138.0</td>\n",
       "      <td>8.3014</td>\n",
       "      <td>358500.0</td>\n",
       "      <td>NEAR BAY</td>\n",
       "    </tr>\n",
       "    <tr>\n",
       "      <th>2</th>\n",
       "      <td>-122.24</td>\n",
       "      <td>37.85</td>\n",
       "      <td>52.0</td>\n",
       "      <td>1467.0</td>\n",
       "      <td>190.0</td>\n",
       "      <td>496.0</td>\n",
       "      <td>177.0</td>\n",
       "      <td>7.2574</td>\n",
       "      <td>352100.0</td>\n",
       "      <td>NEAR BAY</td>\n",
       "    </tr>\n",
       "    <tr>\n",
       "      <th>3</th>\n",
       "      <td>-122.25</td>\n",
       "      <td>37.85</td>\n",
       "      <td>52.0</td>\n",
       "      <td>1274.0</td>\n",
       "      <td>235.0</td>\n",
       "      <td>558.0</td>\n",
       "      <td>219.0</td>\n",
       "      <td>5.6431</td>\n",
       "      <td>341300.0</td>\n",
       "      <td>NEAR BAY</td>\n",
       "    </tr>\n",
       "    <tr>\n",
       "      <th>4</th>\n",
       "      <td>-122.25</td>\n",
       "      <td>37.85</td>\n",
       "      <td>52.0</td>\n",
       "      <td>1627.0</td>\n",
       "      <td>280.0</td>\n",
       "      <td>565.0</td>\n",
       "      <td>259.0</td>\n",
       "      <td>3.8462</td>\n",
       "      <td>342200.0</td>\n",
       "      <td>NEAR BAY</td>\n",
       "    </tr>\n",
       "  </tbody>\n",
       "</table>\n",
       "</div>"
      ],
      "text/plain": [
       "   longitude  latitude  housing_median_age  total_rooms  total_bedrooms  \\\n",
       "0    -122.23     37.88                41.0        880.0           129.0   \n",
       "1    -122.22     37.86                21.0       7099.0          1106.0   \n",
       "2    -122.24     37.85                52.0       1467.0           190.0   \n",
       "3    -122.25     37.85                52.0       1274.0           235.0   \n",
       "4    -122.25     37.85                52.0       1627.0           280.0   \n",
       "\n",
       "   population  households  median_income  median_house_value ocean_proximity  \n",
       "0       322.0       126.0         8.3252            452600.0        NEAR BAY  \n",
       "1      2401.0      1138.0         8.3014            358500.0        NEAR BAY  \n",
       "2       496.0       177.0         7.2574            352100.0        NEAR BAY  \n",
       "3       558.0       219.0         5.6431            341300.0        NEAR BAY  \n",
       "4       565.0       259.0         3.8462            342200.0        NEAR BAY  "
      ]
     },
     "execution_count": 5,
     "metadata": {},
     "output_type": "execute_result"
    }
   ],
   "source": [
    "housing.head() # preview"
   ]
  },
  {
   "cell_type": "code",
   "execution_count": 6,
   "metadata": {},
   "outputs": [
    {
     "name": "stdout",
     "output_type": "stream",
     "text": [
      "<class 'pandas.core.frame.DataFrame'>\n",
      "RangeIndex: 20433 entries, 0 to 20432\n",
      "Data columns (total 10 columns):\n",
      "longitude             20433 non-null float64\n",
      "latitude              20433 non-null float64\n",
      "housing_median_age    20433 non-null float64\n",
      "total_rooms           20433 non-null float64\n",
      "total_bedrooms        20433 non-null float64\n",
      "population            20433 non-null float64\n",
      "households            20433 non-null float64\n",
      "median_income         20433 non-null float64\n",
      "median_house_value    20433 non-null float64\n",
      "ocean_proximity       20433 non-null object\n",
      "dtypes: float64(9), object(1)\n",
      "memory usage: 1.6+ MB\n"
     ]
    }
   ],
   "source": [
    "housing.info() # Some general information"
   ]
  },
  {
   "cell_type": "markdown",
   "metadata": {},
   "source": [
    "## 1.2 Regressão Linear Múltipla\n",
    "\n",
    "Em um modelo linear, o valor alvo é dado por uma combinação linear dos atributos. Matematicamente,\n",
    "\n",
    "\\begin{equation}\\nonumber\n",
    "\\hat{y}=\\boldsymbol{\\theta}^T \\cdot \\mathbf{x} = \\theta_0+\\theta_1 x_1+\\dots+\\theta_n x_n\n",
    "\\end{equation}\n",
    "\n",
    "\\begin{equation}\\nonumber\n",
    "    \\boldsymbol{\\theta}=\n",
    "    \\begin{bmatrix}\n",
    "        \\theta_0\\\\\n",
    "        \\theta_1\\\\\n",
    "        \\vdots\\\\\n",
    "        \\theta_n\n",
    "    \\end{bmatrix}\n",
    "    \\quad \\text{e} \\quad\n",
    "    \\mathbf{x}=\n",
    "    \\begin{bmatrix}\n",
    "        1\\\\\n",
    "        x_1\\\\\n",
    "        \\vdots\\\\\n",
    "        x_n\n",
    "    \\end{bmatrix}\n",
    "\\end{equation}\n",
    "\n",
    "\n",
    "onde $\\hat{y}$ é o valor previsto para o valor alvo, $n$ é número de atributos, $\\{\\theta_i\\}$ são parâmetros do modelo (`intercept_` e `coef_`) e $\\{x_i\\}$ são os atributos. O valor de $\\theta$ que minimiza o método dos mínimos quadrados é dado por:\n",
    "\n",
    "\\begin{equation}\\nonumber\n",
    "\\hat{\\boldsymbol{\\theta}}=(\\mathbf{X}^T \\cdot \\mathbf{X})^{-1} \\cdot \\mathbf{X}^T \\cdot \\mathbf{y}\n",
    "\\end{equation}\n",
    "\n",
    "onde,\n",
    "\n",
    "\\begin{equation}\\nonumber\n",
    "    \\mathbf{y}=\n",
    "    \\begin{bmatrix}\n",
    "        y^{(1)}\\\\\n",
    "        y^{(2)}\\\\\n",
    "        \\vdots\\\\\n",
    "        y^{(m)}\n",
    "    \\end{bmatrix}\n",
    "    \\quad \\text{e} \\quad\n",
    "    \\mathbf{X}=\n",
    "    \\begin{bmatrix}\n",
    "        x^{(1)}_1 & x^{(1)}_2 & \\dots  & x^{(1)}_n\\\\\n",
    "        x^{(2)}_1 & x^{(2)}_2 & \\dots  & x^{(2)}_n\\\\\n",
    "        \\vdots    & \\vdots    & \\ddots & \\vdots\\\\\n",
    "        x^{(m)}_1 & x^{(m)}_2 & \\dots  & x^{(m)}_n\\\\\n",
    "    \\end{bmatrix}.\n",
    "\\end{equation}\n",
    "\n",
    "Aqui:\n",
    "\n",
    "- $m$ é o número de instâncias;<br>\n",
    "- $n$ é o número de características de cada instância;<br>\n",
    "- $\\mathbf{y}$ é o vetor de rótulos de todas as instância;<br>\n",
    "- $\\mathbf{X}$ é a matriz que contêm todas as características de todas as instâncias."
   ]
  },
  {
   "cell_type": "code",
   "execution_count": 19,
   "metadata": {},
   "outputs": [
    {
     "name": "stdout",
     "output_type": "stream",
     "text": [
      "[ -4.27301205e+04  -4.25097369e+04   1.15790031e+03  -8.24972507e+00\n",
      "   1.13820707e+02  -3.83855780e+01   4.77013513e+01   4.02975217e+04]\n",
      "-3585395.74789\n"
     ]
    }
   ],
   "source": [
    "from sklearn.linear_model import LinearRegression\n",
    "#from sklearn.linear_model import SGDRegressor\n",
    "\n",
    "X=housing.drop(['median_house_value','ocean_proximity'],axis=1) # Matrix of data\n",
    "y=housing['median_house_value'].copy() # Target value\n",
    "\n",
    "model=LinearRegression() # Selecting a linear model\n",
    "#model=SGDRegressor(n_iter=50, penalty=None, eta0=0.1)\n",
    "\n",
    "lin_reg=model.fit(X,y) # Estimating the model parameters\n",
    "\n",
    "# print(type(lin_reg))\n",
    "# print(dir(lin_reg))\n",
    "\n",
    "#print(lin_reg.get_params())\n",
    "\n",
    "#print(model.score(X,y)) # R^2\n",
    "\n",
    "print(lin_reg.coef_) # theta_1, theta_2, ...\n",
    "print(lin_reg.intercept_) # theta_0"
   ]
  },
  {
   "cell_type": "code",
   "execution_count": 20,
   "metadata": {},
   "outputs": [
    {
     "name": "stdout",
     "output_type": "stream",
     "text": [
      "[[-122.221, 37.864, 22, 7097, 1104, 2402, 1136, 8.314]]\n",
      "[ 417137.36528409]\n"
     ]
    }
   ],
   "source": [
    "#longitude,latitude,housing_median_age,total_rooms,total_bedrooms,population,households,median_income\n",
    "Xnew=[[-122.221,37.864,22,7097,1104,2402,1136,8.314]]\n",
    "\n",
    "ynew=model.predict(Xnew) # Make a prediction\n",
    "\n",
    "print(Xnew)\n",
    "print(ynew)"
   ]
  }
 ],
 "metadata": {
  "kernelspec": {
   "display_name": "Python 3",
   "language": "python",
   "name": "python3"
  },
  "language_info": {
   "codemirror_mode": {
    "name": "ipython",
    "version": 3
   },
   "file_extension": ".py",
   "mimetype": "text/x-python",
   "name": "python",
   "nbconvert_exporter": "python",
   "pygments_lexer": "ipython3",
   "version": "3.8.5"
  }
 },
 "nbformat": 4,
 "nbformat_minor": 2
}
