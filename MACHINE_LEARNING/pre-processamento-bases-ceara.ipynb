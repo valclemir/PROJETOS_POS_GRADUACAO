{
 "cells": [
  {
   "cell_type": "code",
   "execution_count": 1,
   "id": "d1158c6f",
   "metadata": {},
   "outputs": [],
   "source": [
    "import dask.dataframe as dd \n",
    "import pandas as pd "
   ]
  },
  {
   "cell_type": "code",
   "execution_count": 2,
   "id": "6debeee9",
   "metadata": {},
   "outputs": [],
   "source": [
    "dtypes = {\"paciente_endereco_coIbgeMunicipio\": \"object\",\n",
    "         \"paciente_endereco_coPais\": \"object\",\n",
    "         \"vacina_grupoAtendimento_codigo\": \"object\",\n",
    "         \"paciente_idade\": \"object\",\n",
    "         \"paciente_racaCor_codigo\": \"object\",\n",
    "         \"vacina_categoria_codigo\": \"object\",\n",
    "         \"paciente_endereco_cep\": \"object\"}"
   ]
  },
  {
   "cell_type": "code",
   "execution_count": 3,
   "id": "5132551c",
   "metadata": {},
   "outputs": [],
   "source": [
    "df1 = dd.read_csv(\"E:\\data-covid\\part-00000-dc8bfa1d-abbe-4145-a843-c0f9ec545996.c000.csv\", sep=\";\", dtype=dtypes)\n",
    "df1 = df1.compute()\n",
    "df1.to_parquet('E:\\data-covid\\df.part1.gzip',compression='gzip')\n",
    "\n",
    "df1 = None "
   ]
  },
  {
   "cell_type": "code",
   "execution_count": 4,
   "id": "d246d037",
   "metadata": {},
   "outputs": [],
   "source": [
    "df2 = dd.read_csv(\"E:\\data-covid\\part-00001-dc8bfa1d-abbe-4145-a843-c0f9ec545996.c000.csv\", sep=\";\", dtype=dtypes)\n",
    "df2 = df2.compute()\n",
    "df1.to_parquet('E:\\data-covid\\df.part2.gzip',compression='gzip')\n",
    "\n",
    "df2 = None "
   ]
  },
  {
   "cell_type": "code",
   "execution_count": 5,
   "id": "f178b712",
   "metadata": {},
   "outputs": [],
   "source": [
    "df3 = dd.read_csv(\"E:\\data-covid\\part-00002-dc8bfa1d-abbe-4145-a843-c0f9ec545996.c000.csv\", sep=\";\", dtype=dtypes)\n",
    "df3 = df3.compute()\n",
    "df1.to_parquet('E:\\data-covid\\df.part3.gzip',compression='gzip')\n",
    "\n",
    "df3 = None "
   ]
  },
  {
   "cell_type": "code",
   "execution_count": 7,
   "id": "daae36ae",
   "metadata": {},
   "outputs": [],
   "source": [
    "df1 = pd.read_parquet(\"E:\\data-covid\\df.part1.gzip\")\n",
    "df2 = pd.read_parquet(\"E:\\data-covid\\df.part2.gzip\")\n",
    "df3 = pd.read_parquet(\"E:\\data-covid\\df.part3.gzip\")"
   ]
  },
  {
   "cell_type": "code",
   "execution_count": 8,
   "id": "caf4f5ed",
   "metadata": {},
   "outputs": [],
   "source": [
    "df = dd.concat([df1, df2, df3])"
   ]
  },
  {
   "cell_type": "code",
   "execution_count": 9,
   "id": "2e0d9ab0",
   "metadata": {},
   "outputs": [
    {
     "data": {
      "text/plain": [
       "(None,)"
      ]
     },
     "execution_count": 9,
     "metadata": {},
     "output_type": "execute_result"
    }
   ],
   "source": [
    "df.to_parquet('E:\\data-covid\\dados-covid-ceara.gzip',compression='gzip')"
   ]
  }
 ],
 "metadata": {
  "kernelspec": {
   "display_name": "Python 3 (ipykernel)",
   "language": "python",
   "name": "python3"
  },
  "language_info": {
   "codemirror_mode": {
    "name": "ipython",
    "version": 3
   },
   "file_extension": ".py",
   "mimetype": "text/x-python",
   "name": "python",
   "nbconvert_exporter": "python",
   "pygments_lexer": "ipython3",
   "version": "3.9.7"
  }
 },
 "nbformat": 4,
 "nbformat_minor": 5
}
