{
 "cells": [
  {
   "cell_type": "code",
   "execution_count": 1,
   "id": "d1158c6f",
   "metadata": {},
   "outputs": [],
   "source": [
    "import dask.dataframe as dd \n",
    "import pandas as pd "
   ]
  },
  {
   "cell_type": "code",
   "execution_count": 2,
   "id": "6debeee9",
   "metadata": {},
   "outputs": [],
   "source": [
    "dtypes = {\"paciente_endereco_coIbgeMunicipio\": \"object\",\n",
    "         \"paciente_endereco_coPais\": \"object\",\n",
    "         \"vacina_grupoAtendimento_codigo\": \"object\",\n",
    "         \"paciente_idade\": \"object\",\n",
    "         \"paciente_racaCor_codigo\": \"object\",\n",
    "         \"vacina_categoria_codigo\": \"object\",\n",
    "         \"paciente_endereco_cep\": \"object\"}"
   ]
  },
  {
   "cell_type": "code",
   "execution_count": 3,
   "id": "5132551c",
   "metadata": {},
   "outputs": [],
   "source": [
    "df1 = dd.read_csv(\"E:\\data-covid\\part-00000-dc8bfa1d-abbe-4145-a843-c0f9ec545996.c000.csv\", sep=\";\", dtype=dtypes)\n",
    "df1 = df1.compute()\n"
   ]
  },
  {
   "cell_type": "code",
   "execution_count": 4,
   "id": "d246d037",
   "metadata": {},
   "outputs": [],
   "source": [
    "df2 = dd.read_csv(\"E:\\data-covid\\part-00001-dc8bfa1d-abbe-4145-a843-c0f9ec545996.c000.csv\", sep=\";\", dtype=dtypes)\n",
    "df2 = df2.compute()\n"
   ]
  },
  {
   "cell_type": "code",
   "execution_count": 5,
   "id": "f178b712",
   "metadata": {},
   "outputs": [],
   "source": [
    "df3 = dd.read_csv(\"E:\\data-covid\\part-00002-dc8bfa1d-abbe-4145-a843-c0f9ec545996.c000.csv\", sep=\";\", dtype=dtypes)\n",
    "df3 = df3.compute()\n"
   ]
  },
  {
   "cell_type": "code",
   "execution_count": null,
   "id": "f1864831",
   "metadata": {},
   "outputs": [],
   "source": [
    "df1 = None \n",
    "df2 = None \n",
    "df3 = None"
   ]
  },
  {
   "cell_type": "code",
   "execution_count": 8,
   "id": "caf4f5ed",
   "metadata": {},
   "outputs": [],
   "source": [
    "df = dd.concat([df1, df2, df3])"
   ]
  },
  {
   "cell_type": "code",
   "execution_count": 9,
   "id": "2e0d9ab0",
   "metadata": {},
   "outputs": [
    {
     "data": {
      "text/plain": [
       "(None,)"
      ]
     },
     "execution_count": 9,
     "metadata": {},
     "output_type": "execute_result"
    }
   ],
   "source": [
    "df.to_csv('E:\\data-covid\\dados-covid-fortaleza-v2.csv')"
   ]
  }
 ],
 "metadata": {
  "kernelspec": {
   "display_name": "Python 3 (ipykernel)",
   "language": "python",
   "name": "python3"
  },
  "language_info": {
   "codemirror_mode": {
    "name": "ipython",
    "version": 3
   },
   "file_extension": ".py",
   "mimetype": "text/x-python",
   "name": "python",
   "nbconvert_exporter": "python",
   "pygments_lexer": "ipython3",
   "version": "3.9.7"
  }
 },
 "nbformat": 4,
 "nbformat_minor": 5
}
