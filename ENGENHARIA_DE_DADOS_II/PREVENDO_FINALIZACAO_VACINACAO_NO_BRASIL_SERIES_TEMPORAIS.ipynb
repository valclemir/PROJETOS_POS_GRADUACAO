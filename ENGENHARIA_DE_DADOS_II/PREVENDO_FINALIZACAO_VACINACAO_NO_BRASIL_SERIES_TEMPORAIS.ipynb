{
 "cells": [
  {
   "cell_type": "markdown",
   "metadata": {},
   "source": [
    "## PREVENDO O NUMERO DE MESES PARA FINALIZAR A VACINAÇÃO DE COVID NO BRASIL UTILIZANDO MODELOS AUTO REGRESSIVOS"
   ]
  },
  {
   "cell_type": "markdown",
   "metadata": {},
   "source": [
    "#### Importando bibliotecas"
   ]
  },
  {
   "cell_type": "code",
   "execution_count": 1567,
   "metadata": {},
   "outputs": [],
   "source": [
    "import pandas as pd \n",
    "import numpy as np\n",
    "import matplotlib.pyplot as plt\n",
    "import warnings \n",
    "\n",
    "warnings.simplefilter(\"ignore\")\n",
    "plt.rcParams[\"figure.figsize\"] = (12,5)"
   ]
  },
  {
   "cell_type": "markdown",
   "metadata": {},
   "source": [
    "#### Lendo o dataset"
   ]
  },
  {
   "cell_type": "code",
   "execution_count": 1568,
   "metadata": {},
   "outputs": [],
   "source": [
    "df = pd.read_csv(\"https://raw.githubusercontent.com/owid/covid-19-data/master/public/data/owid-covid-data.csv\")"
   ]
  },
  {
   "cell_type": "code",
   "execution_count": 1569,
   "metadata": {},
   "outputs": [
    {
     "data": {
      "text/html": [
       "<div>\n",
       "<style scoped>\n",
       "    .dataframe tbody tr th:only-of-type {\n",
       "        vertical-align: middle;\n",
       "    }\n",
       "\n",
       "    .dataframe tbody tr th {\n",
       "        vertical-align: top;\n",
       "    }\n",
       "\n",
       "    .dataframe thead th {\n",
       "        text-align: right;\n",
       "    }\n",
       "</style>\n",
       "<table border=\"1\" class=\"dataframe\">\n",
       "  <thead>\n",
       "    <tr style=\"text-align: right;\">\n",
       "      <th></th>\n",
       "      <th>iso_code</th>\n",
       "      <th>continent</th>\n",
       "      <th>location</th>\n",
       "      <th>date</th>\n",
       "      <th>total_cases</th>\n",
       "      <th>new_cases</th>\n",
       "      <th>new_cases_smoothed</th>\n",
       "      <th>total_deaths</th>\n",
       "      <th>new_deaths</th>\n",
       "      <th>new_deaths_smoothed</th>\n",
       "      <th>...</th>\n",
       "      <th>female_smokers</th>\n",
       "      <th>male_smokers</th>\n",
       "      <th>handwashing_facilities</th>\n",
       "      <th>hospital_beds_per_thousand</th>\n",
       "      <th>life_expectancy</th>\n",
       "      <th>human_development_index</th>\n",
       "      <th>excess_mortality_cumulative_absolute</th>\n",
       "      <th>excess_mortality_cumulative</th>\n",
       "      <th>excess_mortality</th>\n",
       "      <th>excess_mortality_cumulative_per_million</th>\n",
       "    </tr>\n",
       "  </thead>\n",
       "  <tbody>\n",
       "    <tr>\n",
       "      <td>0</td>\n",
       "      <td>AFG</td>\n",
       "      <td>Asia</td>\n",
       "      <td>Afghanistan</td>\n",
       "      <td>2020-02-24</td>\n",
       "      <td>5.00000</td>\n",
       "      <td>5.00000</td>\n",
       "      <td>nan</td>\n",
       "      <td>nan</td>\n",
       "      <td>nan</td>\n",
       "      <td>nan</td>\n",
       "      <td>...</td>\n",
       "      <td>nan</td>\n",
       "      <td>nan</td>\n",
       "      <td>37.74600</td>\n",
       "      <td>0.50000</td>\n",
       "      <td>64.83000</td>\n",
       "      <td>0.51100</td>\n",
       "      <td>nan</td>\n",
       "      <td>nan</td>\n",
       "      <td>nan</td>\n",
       "      <td>nan</td>\n",
       "    </tr>\n",
       "    <tr>\n",
       "      <td>1</td>\n",
       "      <td>AFG</td>\n",
       "      <td>Asia</td>\n",
       "      <td>Afghanistan</td>\n",
       "      <td>2020-02-25</td>\n",
       "      <td>5.00000</td>\n",
       "      <td>0.00000</td>\n",
       "      <td>nan</td>\n",
       "      <td>nan</td>\n",
       "      <td>nan</td>\n",
       "      <td>nan</td>\n",
       "      <td>...</td>\n",
       "      <td>nan</td>\n",
       "      <td>nan</td>\n",
       "      <td>37.74600</td>\n",
       "      <td>0.50000</td>\n",
       "      <td>64.83000</td>\n",
       "      <td>0.51100</td>\n",
       "      <td>nan</td>\n",
       "      <td>nan</td>\n",
       "      <td>nan</td>\n",
       "      <td>nan</td>\n",
       "    </tr>\n",
       "    <tr>\n",
       "      <td>2</td>\n",
       "      <td>AFG</td>\n",
       "      <td>Asia</td>\n",
       "      <td>Afghanistan</td>\n",
       "      <td>2020-02-26</td>\n",
       "      <td>5.00000</td>\n",
       "      <td>0.00000</td>\n",
       "      <td>nan</td>\n",
       "      <td>nan</td>\n",
       "      <td>nan</td>\n",
       "      <td>nan</td>\n",
       "      <td>...</td>\n",
       "      <td>nan</td>\n",
       "      <td>nan</td>\n",
       "      <td>37.74600</td>\n",
       "      <td>0.50000</td>\n",
       "      <td>64.83000</td>\n",
       "      <td>0.51100</td>\n",
       "      <td>nan</td>\n",
       "      <td>nan</td>\n",
       "      <td>nan</td>\n",
       "      <td>nan</td>\n",
       "    </tr>\n",
       "    <tr>\n",
       "      <td>3</td>\n",
       "      <td>AFG</td>\n",
       "      <td>Asia</td>\n",
       "      <td>Afghanistan</td>\n",
       "      <td>2020-02-27</td>\n",
       "      <td>5.00000</td>\n",
       "      <td>0.00000</td>\n",
       "      <td>nan</td>\n",
       "      <td>nan</td>\n",
       "      <td>nan</td>\n",
       "      <td>nan</td>\n",
       "      <td>...</td>\n",
       "      <td>nan</td>\n",
       "      <td>nan</td>\n",
       "      <td>37.74600</td>\n",
       "      <td>0.50000</td>\n",
       "      <td>64.83000</td>\n",
       "      <td>0.51100</td>\n",
       "      <td>nan</td>\n",
       "      <td>nan</td>\n",
       "      <td>nan</td>\n",
       "      <td>nan</td>\n",
       "    </tr>\n",
       "    <tr>\n",
       "      <td>4</td>\n",
       "      <td>AFG</td>\n",
       "      <td>Asia</td>\n",
       "      <td>Afghanistan</td>\n",
       "      <td>2020-02-28</td>\n",
       "      <td>5.00000</td>\n",
       "      <td>0.00000</td>\n",
       "      <td>nan</td>\n",
       "      <td>nan</td>\n",
       "      <td>nan</td>\n",
       "      <td>nan</td>\n",
       "      <td>...</td>\n",
       "      <td>nan</td>\n",
       "      <td>nan</td>\n",
       "      <td>37.74600</td>\n",
       "      <td>0.50000</td>\n",
       "      <td>64.83000</td>\n",
       "      <td>0.51100</td>\n",
       "      <td>nan</td>\n",
       "      <td>nan</td>\n",
       "      <td>nan</td>\n",
       "      <td>nan</td>\n",
       "    </tr>\n",
       "    <tr>\n",
       "      <td>5</td>\n",
       "      <td>AFG</td>\n",
       "      <td>Asia</td>\n",
       "      <td>Afghanistan</td>\n",
       "      <td>2020-02-29</td>\n",
       "      <td>5.00000</td>\n",
       "      <td>0.00000</td>\n",
       "      <td>0.71400</td>\n",
       "      <td>nan</td>\n",
       "      <td>nan</td>\n",
       "      <td>0.00000</td>\n",
       "      <td>...</td>\n",
       "      <td>nan</td>\n",
       "      <td>nan</td>\n",
       "      <td>37.74600</td>\n",
       "      <td>0.50000</td>\n",
       "      <td>64.83000</td>\n",
       "      <td>0.51100</td>\n",
       "      <td>nan</td>\n",
       "      <td>nan</td>\n",
       "      <td>nan</td>\n",
       "      <td>nan</td>\n",
       "    </tr>\n",
       "    <tr>\n",
       "      <td>6</td>\n",
       "      <td>AFG</td>\n",
       "      <td>Asia</td>\n",
       "      <td>Afghanistan</td>\n",
       "      <td>2020-03-01</td>\n",
       "      <td>5.00000</td>\n",
       "      <td>0.00000</td>\n",
       "      <td>0.71400</td>\n",
       "      <td>nan</td>\n",
       "      <td>nan</td>\n",
       "      <td>0.00000</td>\n",
       "      <td>...</td>\n",
       "      <td>nan</td>\n",
       "      <td>nan</td>\n",
       "      <td>37.74600</td>\n",
       "      <td>0.50000</td>\n",
       "      <td>64.83000</td>\n",
       "      <td>0.51100</td>\n",
       "      <td>nan</td>\n",
       "      <td>nan</td>\n",
       "      <td>nan</td>\n",
       "      <td>nan</td>\n",
       "    </tr>\n",
       "    <tr>\n",
       "      <td>7</td>\n",
       "      <td>AFG</td>\n",
       "      <td>Asia</td>\n",
       "      <td>Afghanistan</td>\n",
       "      <td>2020-03-02</td>\n",
       "      <td>5.00000</td>\n",
       "      <td>0.00000</td>\n",
       "      <td>0.00000</td>\n",
       "      <td>nan</td>\n",
       "      <td>nan</td>\n",
       "      <td>0.00000</td>\n",
       "      <td>...</td>\n",
       "      <td>nan</td>\n",
       "      <td>nan</td>\n",
       "      <td>37.74600</td>\n",
       "      <td>0.50000</td>\n",
       "      <td>64.83000</td>\n",
       "      <td>0.51100</td>\n",
       "      <td>nan</td>\n",
       "      <td>nan</td>\n",
       "      <td>nan</td>\n",
       "      <td>nan</td>\n",
       "    </tr>\n",
       "    <tr>\n",
       "      <td>8</td>\n",
       "      <td>AFG</td>\n",
       "      <td>Asia</td>\n",
       "      <td>Afghanistan</td>\n",
       "      <td>2020-03-03</td>\n",
       "      <td>5.00000</td>\n",
       "      <td>0.00000</td>\n",
       "      <td>0.00000</td>\n",
       "      <td>nan</td>\n",
       "      <td>nan</td>\n",
       "      <td>0.00000</td>\n",
       "      <td>...</td>\n",
       "      <td>nan</td>\n",
       "      <td>nan</td>\n",
       "      <td>37.74600</td>\n",
       "      <td>0.50000</td>\n",
       "      <td>64.83000</td>\n",
       "      <td>0.51100</td>\n",
       "      <td>nan</td>\n",
       "      <td>nan</td>\n",
       "      <td>nan</td>\n",
       "      <td>nan</td>\n",
       "    </tr>\n",
       "    <tr>\n",
       "      <td>9</td>\n",
       "      <td>AFG</td>\n",
       "      <td>Asia</td>\n",
       "      <td>Afghanistan</td>\n",
       "      <td>2020-03-04</td>\n",
       "      <td>5.00000</td>\n",
       "      <td>0.00000</td>\n",
       "      <td>0.00000</td>\n",
       "      <td>nan</td>\n",
       "      <td>nan</td>\n",
       "      <td>0.00000</td>\n",
       "      <td>...</td>\n",
       "      <td>nan</td>\n",
       "      <td>nan</td>\n",
       "      <td>37.74600</td>\n",
       "      <td>0.50000</td>\n",
       "      <td>64.83000</td>\n",
       "      <td>0.51100</td>\n",
       "      <td>nan</td>\n",
       "      <td>nan</td>\n",
       "      <td>nan</td>\n",
       "      <td>nan</td>\n",
       "    </tr>\n",
       "  </tbody>\n",
       "</table>\n",
       "<p>10 rows × 65 columns</p>\n",
       "</div>"
      ],
      "text/plain": [
       "  iso_code continent     location        date  total_cases  new_cases  \\\n",
       "0      AFG      Asia  Afghanistan  2020-02-24      5.00000    5.00000   \n",
       "1      AFG      Asia  Afghanistan  2020-02-25      5.00000    0.00000   \n",
       "2      AFG      Asia  Afghanistan  2020-02-26      5.00000    0.00000   \n",
       "3      AFG      Asia  Afghanistan  2020-02-27      5.00000    0.00000   \n",
       "4      AFG      Asia  Afghanistan  2020-02-28      5.00000    0.00000   \n",
       "5      AFG      Asia  Afghanistan  2020-02-29      5.00000    0.00000   \n",
       "6      AFG      Asia  Afghanistan  2020-03-01      5.00000    0.00000   \n",
       "7      AFG      Asia  Afghanistan  2020-03-02      5.00000    0.00000   \n",
       "8      AFG      Asia  Afghanistan  2020-03-03      5.00000    0.00000   \n",
       "9      AFG      Asia  Afghanistan  2020-03-04      5.00000    0.00000   \n",
       "\n",
       "   new_cases_smoothed  total_deaths  new_deaths  new_deaths_smoothed  ...  \\\n",
       "0                 nan           nan         nan                  nan  ...   \n",
       "1                 nan           nan         nan                  nan  ...   \n",
       "2                 nan           nan         nan                  nan  ...   \n",
       "3                 nan           nan         nan                  nan  ...   \n",
       "4                 nan           nan         nan                  nan  ...   \n",
       "5             0.71400           nan         nan              0.00000  ...   \n",
       "6             0.71400           nan         nan              0.00000  ...   \n",
       "7             0.00000           nan         nan              0.00000  ...   \n",
       "8             0.00000           nan         nan              0.00000  ...   \n",
       "9             0.00000           nan         nan              0.00000  ...   \n",
       "\n",
       "   female_smokers  male_smokers  handwashing_facilities  \\\n",
       "0             nan           nan                37.74600   \n",
       "1             nan           nan                37.74600   \n",
       "2             nan           nan                37.74600   \n",
       "3             nan           nan                37.74600   \n",
       "4             nan           nan                37.74600   \n",
       "5             nan           nan                37.74600   \n",
       "6             nan           nan                37.74600   \n",
       "7             nan           nan                37.74600   \n",
       "8             nan           nan                37.74600   \n",
       "9             nan           nan                37.74600   \n",
       "\n",
       "   hospital_beds_per_thousand  life_expectancy  human_development_index  \\\n",
       "0                     0.50000         64.83000                  0.51100   \n",
       "1                     0.50000         64.83000                  0.51100   \n",
       "2                     0.50000         64.83000                  0.51100   \n",
       "3                     0.50000         64.83000                  0.51100   \n",
       "4                     0.50000         64.83000                  0.51100   \n",
       "5                     0.50000         64.83000                  0.51100   \n",
       "6                     0.50000         64.83000                  0.51100   \n",
       "7                     0.50000         64.83000                  0.51100   \n",
       "8                     0.50000         64.83000                  0.51100   \n",
       "9                     0.50000         64.83000                  0.51100   \n",
       "\n",
       "   excess_mortality_cumulative_absolute  excess_mortality_cumulative  \\\n",
       "0                                   nan                          nan   \n",
       "1                                   nan                          nan   \n",
       "2                                   nan                          nan   \n",
       "3                                   nan                          nan   \n",
       "4                                   nan                          nan   \n",
       "5                                   nan                          nan   \n",
       "6                                   nan                          nan   \n",
       "7                                   nan                          nan   \n",
       "8                                   nan                          nan   \n",
       "9                                   nan                          nan   \n",
       "\n",
       "   excess_mortality  excess_mortality_cumulative_per_million  \n",
       "0               nan                                      nan  \n",
       "1               nan                                      nan  \n",
       "2               nan                                      nan  \n",
       "3               nan                                      nan  \n",
       "4               nan                                      nan  \n",
       "5               nan                                      nan  \n",
       "6               nan                                      nan  \n",
       "7               nan                                      nan  \n",
       "8               nan                                      nan  \n",
       "9               nan                                      nan  \n",
       "\n",
       "[10 rows x 65 columns]"
      ]
     },
     "execution_count": 1569,
     "metadata": {},
     "output_type": "execute_result"
    }
   ],
   "source": [
    "df.head(10)"
   ]
  },
  {
   "cell_type": "markdown",
   "metadata": {},
   "source": [
    "#### Seleciona a localidade para analise, nesse caso, Brasil"
   ]
  },
  {
   "cell_type": "code",
   "execution_count": 1570,
   "metadata": {},
   "outputs": [],
   "source": [
    "df_brasil = df[df['location'] == \"Brazil\"]"
   ]
  },
  {
   "cell_type": "code",
   "execution_count": 1571,
   "metadata": {},
   "outputs": [
    {
     "name": "stdout",
     "output_type": "stream",
     "text": [
      "<class 'pandas.core.frame.DataFrame'>\n",
      "Int64Index: 621 entries, 16424 to 17044\n",
      "Data columns (total 65 columns):\n",
      "iso_code                                   621 non-null object\n",
      "continent                                  621 non-null object\n",
      "location                                   621 non-null object\n",
      "date                                       621 non-null object\n",
      "total_cases                                621 non-null float64\n",
      "new_cases                                  620 non-null float64\n",
      "new_cases_smoothed                         616 non-null float64\n",
      "total_deaths                               601 non-null float64\n",
      "new_deaths                                 601 non-null float64\n",
      "new_deaths_smoothed                        616 non-null float64\n",
      "total_cases_per_million                    621 non-null float64\n",
      "new_cases_per_million                      620 non-null float64\n",
      "new_cases_smoothed_per_million             616 non-null float64\n",
      "total_deaths_per_million                   601 non-null float64\n",
      "new_deaths_per_million                     601 non-null float64\n",
      "new_deaths_smoothed_per_million            616 non-null float64\n",
      "reproduction_rate                          602 non-null float64\n",
      "icu_patients                               0 non-null float64\n",
      "icu_patients_per_million                   0 non-null float64\n",
      "hosp_patients                              0 non-null float64\n",
      "hosp_patients_per_million                  0 non-null float64\n",
      "weekly_icu_admissions                      0 non-null float64\n",
      "weekly_icu_admissions_per_million          0 non-null float64\n",
      "weekly_hosp_admissions                     0 non-null float64\n",
      "weekly_hosp_admissions_per_million         0 non-null float64\n",
      "new_tests                                  0 non-null float64\n",
      "total_tests                                17 non-null float64\n",
      "total_tests_per_thousand                   17 non-null float64\n",
      "new_tests_per_thousand                     0 non-null float64\n",
      "new_tests_smoothed                         82 non-null float64\n",
      "new_tests_smoothed_per_thousand            82 non-null float64\n",
      "positive_rate                              0 non-null float64\n",
      "tests_per_case                             0 non-null float64\n",
      "tests_units                                98 non-null object\n",
      "total_vaccinations                         240 non-null float64\n",
      "people_vaccinated                          237 non-null float64\n",
      "people_fully_vaccinated                    217 non-null float64\n",
      "total_boosters                             6 non-null float64\n",
      "new_vaccinations                           205 non-null float64\n",
      "new_vaccinations_smoothed                  294 non-null float64\n",
      "total_vaccinations_per_hundred             240 non-null float64\n",
      "people_vaccinated_per_hundred              237 non-null float64\n",
      "people_fully_vaccinated_per_hundred        217 non-null float64\n",
      "total_boosters_per_hundred                 6 non-null float64\n",
      "new_vaccinations_smoothed_per_million      294 non-null float64\n",
      "stringency_index                           615 non-null float64\n",
      "population                                 621 non-null float64\n",
      "population_density                         621 non-null float64\n",
      "median_age                                 621 non-null float64\n",
      "aged_65_older                              621 non-null float64\n",
      "aged_70_older                              621 non-null float64\n",
      "gdp_per_capita                             621 non-null float64\n",
      "extreme_poverty                            621 non-null float64\n",
      "cardiovasc_death_rate                      621 non-null float64\n",
      "diabetes_prevalence                        621 non-null float64\n",
      "female_smokers                             621 non-null float64\n",
      "male_smokers                               621 non-null float64\n",
      "handwashing_facilities                     0 non-null float64\n",
      "hospital_beds_per_thousand                 621 non-null float64\n",
      "life_expectancy                            621 non-null float64\n",
      "human_development_index                    621 non-null float64\n",
      "excess_mortality_cumulative_absolute       19 non-null float64\n",
      "excess_mortality_cumulative                19 non-null float64\n",
      "excess_mortality                           19 non-null float64\n",
      "excess_mortality_cumulative_per_million    19 non-null float64\n",
      "dtypes: float64(60), object(5)\n",
      "memory usage: 320.2+ KB\n"
     ]
    }
   ],
   "source": [
    "df_brasil.info()"
   ]
  },
  {
   "cell_type": "markdown",
   "metadata": {},
   "source": [
    "#### Converte a coluna date em datetime"
   ]
  },
  {
   "cell_type": "code",
   "execution_count": 1572,
   "metadata": {},
   "outputs": [],
   "source": [
    "df_brasil[\"date\"] = pd.to_datetime(df_brasil.date)"
   ]
  },
  {
   "cell_type": "markdown",
   "metadata": {},
   "source": [
    "#### Selecionando colunas para análise"
   ]
  },
  {
   "cell_type": "code",
   "execution_count": 1573,
   "metadata": {},
   "outputs": [],
   "source": [
    "columns = [\"date\", \"new_deaths\", \"people_vaccinated\", \"people_fully_vaccinated\", \"new_vaccinations\", \"population\"]\n",
    "df_brasil = df_brasil[columns]"
   ]
  },
  {
   "cell_type": "markdown",
   "metadata": {},
   "source": [
    "#### Verifica se existe NaNs e remove"
   ]
  },
  {
   "cell_type": "code",
   "execution_count": 1574,
   "metadata": {},
   "outputs": [
    {
     "data": {
      "text/plain": [
       "date                         0\n",
       "new_deaths                  20\n",
       "people_vaccinated          384\n",
       "people_fully_vaccinated    404\n",
       "new_vaccinations           416\n",
       "population                   0\n",
       "dtype: int64"
      ]
     },
     "execution_count": 1574,
     "metadata": {},
     "output_type": "execute_result"
    }
   ],
   "source": [
    "df_brasil.isnull().sum() "
   ]
  },
  {
   "cell_type": "code",
   "execution_count": 1575,
   "metadata": {},
   "outputs": [],
   "source": [
    "df_brasil.dropna(inplace=True)"
   ]
  },
  {
   "cell_type": "code",
   "execution_count": 1576,
   "metadata": {},
   "outputs": [
    {
     "data": {
      "image/png": "[encoded data removed]",
      "text/plain": [
       "<Figure size 1080x360 with 2 Axes>"
      ]
     },
     "metadata": {
      "needs_background": "light"
     },
     "output_type": "display_data"
    }
   ],
   "source": [
    "filter_columns = [i for i in columns \n",
    "                  if i not in \"date\" \n",
    "                  and i not in \"population\"  \n",
    "                  and i not in \"people_vaccinated\" \n",
    "                  and  i not in \"people_fully_vaccinated\"]\n",
    "df_brasil[filter_columns].hist(figsize=(15, 5));"
   ]
  },
  {
   "cell_type": "markdown",
   "metadata": {},
   "source": [
    "#### Seta a coluna date como index"
   ]
  },
  {
   "cell_type": "code",
   "execution_count": 1577,
   "metadata": {},
   "outputs": [],
   "source": [
    "df_brasil_index_date = df_brasil.set_index(pd.DatetimeIndex(df_brasil['date']).to_period(\"M\"))\n",
    "df_brasil_index_date.drop(\"date\", axis=1, inplace=True)"
   ]
  },
  {
   "cell_type": "code",
   "execution_count": 1578,
   "metadata": {},
   "outputs": [
    {
     "data": {
      "text/html": [
       "<div>\n",
       "<style scoped>\n",
       "    .dataframe tbody tr th:only-of-type {\n",
       "        vertical-align: middle;\n",
       "    }\n",
       "\n",
       "    .dataframe tbody tr th {\n",
       "        vertical-align: top;\n",
       "    }\n",
       "\n",
       "    .dataframe thead th {\n",
       "        text-align: right;\n",
       "    }\n",
       "</style>\n",
       "<table border=\"1\" class=\"dataframe\">\n",
       "  <thead>\n",
       "    <tr style=\"text-align: right;\">\n",
       "      <th></th>\n",
       "      <th>new_deaths</th>\n",
       "      <th>people_vaccinated</th>\n",
       "      <th>people_fully_vaccinated</th>\n",
       "      <th>new_vaccinations</th>\n",
       "      <th>population</th>\n",
       "    </tr>\n",
       "    <tr>\n",
       "      <th>date</th>\n",
       "      <th></th>\n",
       "      <th></th>\n",
       "      <th></th>\n",
       "      <th></th>\n",
       "      <th></th>\n",
       "    </tr>\n",
       "  </thead>\n",
       "  <tbody>\n",
       "    <tr>\n",
       "      <td>2021-02</td>\n",
       "      <td>0.00000</td>\n",
       "      <td>3399421.00000</td>\n",
       "      <td>1962.00000</td>\n",
       "      <td>326477.00000</td>\n",
       "      <td>213993441.00000</td>\n",
       "    </tr>\n",
       "    <tr>\n",
       "      <td>2021-02</td>\n",
       "      <td>1500.00000</td>\n",
       "      <td>3534004.00000</td>\n",
       "      <td>19677.00000</td>\n",
       "      <td>152298.00000</td>\n",
       "      <td>213993441.00000</td>\n",
       "    </tr>\n",
       "    <tr>\n",
       "      <td>2021-02</td>\n",
       "      <td>0.00000</td>\n",
       "      <td>3579850.00000</td>\n",
       "      <td>25688.00000</td>\n",
       "      <td>51857.00000</td>\n",
       "      <td>213993441.00000</td>\n",
       "    </tr>\n",
       "    <tr>\n",
       "      <td>2021-02</td>\n",
       "      <td>1986.00000</td>\n",
       "      <td>3786591.00000</td>\n",
       "      <td>33616.00000</td>\n",
       "      <td>214669.00000</td>\n",
       "      <td>213993441.00000</td>\n",
       "    </tr>\n",
       "    <tr>\n",
       "      <td>2021-02</td>\n",
       "      <td>1330.00000</td>\n",
       "      <td>4069677.00000</td>\n",
       "      <td>50655.00000</td>\n",
       "      <td>300125.00000</td>\n",
       "      <td>213993441.00000</td>\n",
       "    </tr>\n",
       "    <tr>\n",
       "      <td>...</td>\n",
       "      <td>...</td>\n",
       "      <td>...</td>\n",
       "      <td>...</td>\n",
       "      <td>...</td>\n",
       "      <td>...</td>\n",
       "    </tr>\n",
       "    <tr>\n",
       "      <td>2021-10</td>\n",
       "      <td>318.00000</td>\n",
       "      <td>158233397.00000</td>\n",
       "      <td>114767275.00000</td>\n",
       "      <td>5106732.00000</td>\n",
       "      <td>213993441.00000</td>\n",
       "    </tr>\n",
       "    <tr>\n",
       "      <td>2021-10</td>\n",
       "      <td>187.00000</td>\n",
       "      <td>158464224.00000</td>\n",
       "      <td>115489354.00000</td>\n",
       "      <td>948657.00000</td>\n",
       "      <td>213993441.00000</td>\n",
       "    </tr>\n",
       "    <tr>\n",
       "      <td>2021-10</td>\n",
       "      <td>433.00000</td>\n",
       "      <td>159200858.00000</td>\n",
       "      <td>118280562.00000</td>\n",
       "      <td>2565761.00000</td>\n",
       "      <td>213993441.00000</td>\n",
       "    </tr>\n",
       "    <tr>\n",
       "      <td>2021-11</td>\n",
       "      <td>389.00000</td>\n",
       "      <td>161945574.00000</td>\n",
       "      <td>122793648.00000</td>\n",
       "      <td>2113743.00000</td>\n",
       "      <td>213993441.00000</td>\n",
       "    </tr>\n",
       "    <tr>\n",
       "      <td>2021-11</td>\n",
       "      <td>328.00000</td>\n",
       "      <td>162173032.00000</td>\n",
       "      <td>123671574.00000</td>\n",
       "      <td>1086907.00000</td>\n",
       "      <td>213993441.00000</td>\n",
       "    </tr>\n",
       "  </tbody>\n",
       "</table>\n",
       "<p>184 rows × 5 columns</p>\n",
       "</div>"
      ],
      "text/plain": [
       "         new_deaths  people_vaccinated  people_fully_vaccinated  \\\n",
       "date                                                              \n",
       "2021-02     0.00000      3399421.00000               1962.00000   \n",
       "2021-02  1500.00000      3534004.00000              19677.00000   \n",
       "2021-02     0.00000      3579850.00000              25688.00000   \n",
       "2021-02  1986.00000      3786591.00000              33616.00000   \n",
       "2021-02  1330.00000      4069677.00000              50655.00000   \n",
       "...             ...                ...                      ...   \n",
       "2021-10   318.00000    158233397.00000          114767275.00000   \n",
       "2021-10   187.00000    158464224.00000          115489354.00000   \n",
       "2021-10   433.00000    159200858.00000          118280562.00000   \n",
       "2021-11   389.00000    161945574.00000          122793648.00000   \n",
       "2021-11   328.00000    162173032.00000          123671574.00000   \n",
       "\n",
       "         new_vaccinations      population  \n",
       "date                                       \n",
       "2021-02      326477.00000 213993441.00000  \n",
       "2021-02      152298.00000 213993441.00000  \n",
       "2021-02       51857.00000 213993441.00000  \n",
       "2021-02      214669.00000 213993441.00000  \n",
       "2021-02      300125.00000 213993441.00000  \n",
       "...                   ...             ...  \n",
       "2021-10     5106732.00000 213993441.00000  \n",
       "2021-10      948657.00000 213993441.00000  \n",
       "2021-10     2565761.00000 213993441.00000  \n",
       "2021-11     2113743.00000 213993441.00000  \n",
       "2021-11     1086907.00000 213993441.00000  \n",
       "\n",
       "[184 rows x 5 columns]"
      ]
     },
     "execution_count": 1578,
     "metadata": {},
     "output_type": "execute_result"
    }
   ],
   "source": [
    "df_brasil_index_date"
   ]
  },
  {
   "cell_type": "markdown",
   "metadata": {},
   "source": [
    "#### Plota gráfico de linha para analisarmos as tendências"
   ]
  },
  {
   "cell_type": "code",
   "execution_count": 1579,
   "metadata": {},
   "outputs": [
    {
     "data": {
      "text/plain": [
       "<matplotlib.axes._subplots.AxesSubplot at 0x2798ffd25c8>"
      ]
     },
     "execution_count": 1579,
     "metadata": {},
     "output_type": "execute_result"
    },
    {
     "data": {
      "image/png": "[encoded data removed]",
      "text/plain": [
       "<Figure size 864x360 with 1 Axes>"
      ]
     },
     "metadata": {
      "needs_background": "light"
     },
     "output_type": "display_data"
    }
   ],
   "source": [
    "filter_columns = [i for i in columns \n",
    "                  if i not in \"date\" \n",
    "                  and i not in \"population\" ]\n",
    "df_brasil[filter_columns].astype(float).plot()"
   ]
  },
  {
   "cell_type": "markdown",
   "metadata": {},
   "source": [
    "#### Plota gráfico mensal das variáveis *people_vaccinated* e *people_fully_vaccinated*"
   ]
  },
  {
   "cell_type": "code",
   "execution_count": 1580,
   "metadata": {},
   "outputs": [
    {
     "data": {
      "text/plain": [
       "<matplotlib.axes._subplots.AxesSubplot at 0x2799ebba988>"
      ]
     },
     "execution_count": 1580,
     "metadata": {},
     "output_type": "execute_result"
    },
    {
     "data": {
      "image/png": "[encoded data removed]",
      "text/plain": [
       "<Figure size 864x360 with 1 Axes>"
      ]
     },
     "metadata": {
      "needs_background": "light"
     },
     "output_type": "display_data"
    }
   ],
   "source": [
    "months = df_brasil_index_date.index.month\n",
    "df_brasil_index_date[[\"people_vaccinated\", \"people_fully_vaccinated\"]].groupby(months).max().plot()"
   ]
  },
  {
   "cell_type": "markdown",
   "metadata": {},
   "source": [
    "#### Plota gráfico mensal das variáveis *people_fully_vaccinated* e *new_deaths*"
   ]
  },
  {
   "cell_type": "code",
   "execution_count": 1581,
   "metadata": {},
   "outputs": [
    {
     "data": {
      "image/png": "[encoded data removed]",
      "text/plain": [
       "<Figure size 864x360 with 1 Axes>"
      ]
     },
     "metadata": {
      "needs_background": "light"
     },
     "output_type": "display_data"
    }
   ],
   "source": [
    "new_deaths = df_brasil_index_date[[\"new_deaths\"]].groupby(months).sum()\n",
    "new_vaccionations = df_brasil_index_date[[\"new_vaccinations\"]].groupby(months).sum() / 30\n",
    "\n",
    "plt.plot(pd.DataFrame(new_deaths).set_index(new_deaths.index), label=\"new_deaths\")\n",
    "plt.plot(pd.DataFrame(new_vaccionations).set_index(new_vaccionations.index), label=\"new_vaccinations\")\n",
    "\n",
    "plt.title('New Vaccinations vs New Deaths')\n",
    "plt.legend(loc='upper left', fontsize=8)\n",
    "plt.show()"
   ]
  },
  {
   "cell_type": "markdown",
   "metadata": {},
   "source": [
    "#### Agrupa os dados mensalmente e monta a série"
   ]
  },
  {
   "cell_type": "code",
   "execution_count": 1582,
   "metadata": {},
   "outputs": [],
   "source": [
    "months = df_brasil_index_date.index\n",
    "ts_brasil_month = df_brasil[[\"people_vaccinated\", \"people_fully_vaccinated\", \"population\"]].groupby(months).max()"
   ]
  },
  {
   "cell_type": "code",
   "execution_count": 1583,
   "metadata": {},
   "outputs": [
    {
     "data": {
      "text/html": [
       "<div>\n",
       "<style scoped>\n",
       "    .dataframe tbody tr th:only-of-type {\n",
       "        vertical-align: middle;\n",
       "    }\n",
       "\n",
       "    .dataframe tbody tr th {\n",
       "        vertical-align: top;\n",
       "    }\n",
       "\n",
       "    .dataframe thead th {\n",
       "        text-align: right;\n",
       "    }\n",
       "</style>\n",
       "<table border=\"1\" class=\"dataframe\">\n",
       "  <thead>\n",
       "    <tr style=\"text-align: right;\">\n",
       "      <th></th>\n",
       "      <th>people_vaccinated</th>\n",
       "      <th>people_fully_vaccinated</th>\n",
       "      <th>population</th>\n",
       "    </tr>\n",
       "    <tr>\n",
       "      <th>date</th>\n",
       "      <th></th>\n",
       "      <th></th>\n",
       "      <th></th>\n",
       "    </tr>\n",
       "  </thead>\n",
       "  <tbody>\n",
       "    <tr>\n",
       "      <td>2021-02</td>\n",
       "      <td>6518628.00000</td>\n",
       "      <td>1914940.00000</td>\n",
       "      <td>213993441.00000</td>\n",
       "    </tr>\n",
       "    <tr>\n",
       "      <td>2021-03</td>\n",
       "      <td>14921376.00000</td>\n",
       "      <td>4234605.00000</td>\n",
       "      <td>213993441.00000</td>\n",
       "    </tr>\n",
       "    <tr>\n",
       "      <td>2021-04</td>\n",
       "      <td>29149512.00000</td>\n",
       "      <td>13549350.00000</td>\n",
       "      <td>213993441.00000</td>\n",
       "    </tr>\n",
       "    <tr>\n",
       "      <td>2021-05</td>\n",
       "      <td>45376214.00000</td>\n",
       "      <td>22106516.00000</td>\n",
       "      <td>213993441.00000</td>\n",
       "    </tr>\n",
       "    <tr>\n",
       "      <td>2021-06</td>\n",
       "      <td>72722360.00000</td>\n",
       "      <td>26105125.00000</td>\n",
       "      <td>213993441.00000</td>\n",
       "    </tr>\n",
       "    <tr>\n",
       "      <td>2021-07</td>\n",
       "      <td>105057816.00000</td>\n",
       "      <td>41489804.00000</td>\n",
       "      <td>213993441.00000</td>\n",
       "    </tr>\n",
       "    <tr>\n",
       "      <td>2021-08</td>\n",
       "      <td>134521410.00000</td>\n",
       "      <td>61416222.00000</td>\n",
       "      <td>213993441.00000</td>\n",
       "    </tr>\n",
       "    <tr>\n",
       "      <td>2021-09</td>\n",
       "      <td>150269515.00000</td>\n",
       "      <td>88983740.00000</td>\n",
       "      <td>213993441.00000</td>\n",
       "    </tr>\n",
       "    <tr>\n",
       "      <td>2021-10</td>\n",
       "      <td>159200858.00000</td>\n",
       "      <td>118280562.00000</td>\n",
       "      <td>213993441.00000</td>\n",
       "    </tr>\n",
       "    <tr>\n",
       "      <td>2021-11</td>\n",
       "      <td>162173032.00000</td>\n",
       "      <td>123671574.00000</td>\n",
       "      <td>213993441.00000</td>\n",
       "    </tr>\n",
       "  </tbody>\n",
       "</table>\n",
       "</div>"
      ],
      "text/plain": [
       "         people_vaccinated  people_fully_vaccinated      population\n",
       "date                                                               \n",
       "2021-02      6518628.00000            1914940.00000 213993441.00000\n",
       "2021-03     14921376.00000            4234605.00000 213993441.00000\n",
       "2021-04     29149512.00000           13549350.00000 213993441.00000\n",
       "2021-05     45376214.00000           22106516.00000 213993441.00000\n",
       "2021-06     72722360.00000           26105125.00000 213993441.00000\n",
       "2021-07    105057816.00000           41489804.00000 213993441.00000\n",
       "2021-08    134521410.00000           61416222.00000 213993441.00000\n",
       "2021-09    150269515.00000           88983740.00000 213993441.00000\n",
       "2021-10    159200858.00000          118280562.00000 213993441.00000\n",
       "2021-11    162173032.00000          123671574.00000 213993441.00000"
      ]
     },
     "execution_count": 1583,
     "metadata": {},
     "output_type": "execute_result"
    }
   ],
   "source": [
    "ts_brasil_month"
   ]
  },
  {
   "cell_type": "code",
   "execution_count": 1584,
   "metadata": {},
   "outputs": [
    {
     "data": {
      "text/plain": [
       "<matplotlib.axes._subplots.AxesSubplot at 0x27a582cff48>"
      ]
     },
     "execution_count": 1584,
     "metadata": {},
     "output_type": "execute_result"
    },
    {
     "data": {
      "image/png": "[encoded data removed]",
      "text/plain": [
       "<Figure size 864x360 with 1 Axes>"
      ]
     },
     "metadata": {
      "needs_background": "light"
     },
     "output_type": "display_data"
    }
   ],
   "source": [
    "ts_brasil_month.plot()"
   ]
  },
  {
   "cell_type": "markdown",
   "metadata": {},
   "source": [
    "#### Separa o dataset em treino e teste"
   ]
  },
  {
   "cell_type": "code",
   "execution_count": 1585,
   "metadata": {},
   "outputs": [],
   "source": [
    "train_size = round(len(ts_brasil_month) * 0.6)"
   ]
  },
  {
   "cell_type": "code",
   "execution_count": 1586,
   "metadata": {},
   "outputs": [],
   "source": [
    "train_set = ts_brasil_month.people_fully_vaccinated.iloc[0: train_size]\n",
    "test_set = ts_brasil_month.people_fully_vaccinated.iloc[train_size: -1]"
   ]
  },
  {
   "cell_type": "code",
   "execution_count": 1587,
   "metadata": {},
   "outputs": [
    {
     "data": {
      "text/plain": [
       "((6,), (3,))"
      ]
     },
     "execution_count": 1587,
     "metadata": {},
     "output_type": "execute_result"
    }
   ],
   "source": [
    "train_set.shape, test_set.shape"
   ]
  },
  {
   "cell_type": "markdown",
   "metadata": {},
   "source": [
    "#### Treina modelo utilizando biblioteca statsmodels"
   ]
  },
  {
   "cell_type": "code",
   "execution_count": 1588,
   "metadata": {},
   "outputs": [],
   "source": [
    "from statsmodels.tsa.ar_model import AR\n",
    "\n",
    "ar_model = AR(train_set, freq=\"M\").fit(1)"
   ]
  },
  {
   "cell_type": "markdown",
   "metadata": {},
   "source": [
    "#### Equação do modelo AR $Y_t$ = $C$ + $\\phi_1$ * $Y_t$$_-$$_1$ + $\\phi_2$ * $Y_t$$_-$$_2$ +...+ $Y_t$$_-$$_p$ + $\\phi_p$"
   ]
  },
  {
   "cell_type": "code",
   "execution_count": 1589,
   "metadata": {},
   "outputs": [
    {
     "data": {
      "text/plain": [
       "const                        4546827.70567\n",
       "L1.people_fully_vaccinated         1.24798\n",
       "dtype: float64"
      ]
     },
     "execution_count": 1589,
     "metadata": {},
     "output_type": "execute_result"
    }
   ],
   "source": [
    "ar_model.params"
   ]
  },
  {
   "cell_type": "code",
   "execution_count": 1590,
   "metadata": {},
   "outputs": [],
   "source": [
    "const = model.params[0]\n",
    "coef1 = model.params[1]\n",
    "predictions =  const + coef1 * test_set.shift(1).dropna()"
   ]
  },
  {
   "cell_type": "markdown",
   "metadata": {},
   "source": [
    "#### Avalia modelo"
   ]
  },
  {
   "cell_type": "code",
   "execution_count": 1591,
   "metadata": {},
   "outputs": [],
   "source": [
    "from sklearn.metrics import mean_absolute_error, mean_squared_error"
   ]
  },
  {
   "cell_type": "code",
   "execution_count": 1592,
   "metadata": {},
   "outputs": [
    {
     "name": "stdout",
     "output_type": "stream",
     "text": [
      "4889815.901906073\n",
      "4896023.033753497\n"
     ]
    }
   ],
   "source": [
    "print(mean_absolute_error(predictions, test_set[0:-1]))\n",
    "print(np.sqrt(mean_squared_error(predictions, test_set[0:-1])))"
   ]
  },
  {
   "cell_type": "markdown",
   "metadata": {},
   "source": [
    "#### Plota gráfico de linhas de treino, validação e predições"
   ]
  },
  {
   "cell_type": "code",
   "execution_count": 1593,
   "metadata": {},
   "outputs": [
    {
     "data": {
      "image/png": "[encoded data removed]",
      "text/plain": [
       "<Figure size 864x360 with 1 Axes>"
      ]
     },
     "metadata": {
      "needs_background": "light"
     },
     "output_type": "display_data"
    }
   ],
   "source": [
    "plt.plot(pd.DataFrame(train_set).set_index(train_set.index.month), label='train')\n",
    "plt.plot(pd.DataFrame(test_set).set_index(test_set.index.month), label='val')\n",
    "plt.plot(pd.DataFrame(predictions).set_index(predictions.index.month), label=\"previsões\")\n",
    "\n",
    "plt.title('Predictions vs Validation')\n",
    "plt.legend(loc='upper left', fontsize=8)\n",
    "plt.show()"
   ]
  },
  {
   "cell_type": "markdown",
   "metadata": {},
   "source": [
    "#### Treina modelo utilizando biblioteca statsmodels"
   ]
  },
  {
   "cell_type": "code",
   "execution_count": 1594,
   "metadata": {},
   "outputs": [],
   "source": [
    "from statsmodels.tsa.ar_model import AutoReg"
   ]
  },
  {
   "cell_type": "code",
   "execution_count": 1595,
   "metadata": {},
   "outputs": [],
   "source": [
    "autoreg_model = AutoReg(train_set, lags=1).fit()"
   ]
  },
  {
   "cell_type": "code",
   "execution_count": 1596,
   "metadata": {},
   "outputs": [],
   "source": [
    "start = train_set.shape[0]\n",
    "end = train_set.shape[0] + test_set.shape[0]"
   ]
  },
  {
   "cell_type": "code",
   "execution_count": 1597,
   "metadata": {},
   "outputs": [],
   "source": [
    "predictions = autoreg_model.predict(start=start, end=end - 1, dynamic=False)"
   ]
  },
  {
   "cell_type": "markdown",
   "metadata": {},
   "source": [
    "#### Avalia o modelo"
   ]
  },
  {
   "cell_type": "code",
   "execution_count": 1598,
   "metadata": {},
   "outputs": [],
   "source": [
    "from sklearn.metrics import mean_absolute_error, mean_squared_error"
   ]
  },
  {
   "cell_type": "code",
   "execution_count": 1599,
   "metadata": {},
   "outputs": [
    {
     "name": "stdout",
     "output_type": "stream",
     "text": [
      "9617224.999343589\n",
      "10629190.529493276\n"
     ]
    }
   ],
   "source": [
    "print(mean_absolute_error(predictions[0:-1], test_set[0:-1]))\n",
    "print(np.sqrt(mean_squared_error(predictions[0:-1], test_set[0:-1])))"
   ]
  },
  {
   "cell_type": "markdown",
   "metadata": {},
   "source": [
    "#### Plota gráfico de linhas de treino, validação e predições"
   ]
  },
  {
   "cell_type": "code",
   "execution_count": 1600,
   "metadata": {},
   "outputs": [
    {
     "data": {
      "image/png": "[encoded data removed]",
      "text/plain": [
       "<Figure size 864x360 with 1 Axes>"
      ]
     },
     "metadata": {
      "needs_background": "light"
     },
     "output_type": "display_data"
    }
   ],
   "source": [
    "plt.plot(pd.DataFrame(train_set).set_index(train_set.index.month), label='train')\n",
    "plt.plot(pd.DataFrame(test_set).set_index(test_set.index.month), label='val')\n",
    "plt.plot(pd.DataFrame(predictions).set_index(predictions.index.month), label=\"previsões\")\n",
    "\n",
    "plt.title('Predictions vs Validation')\n",
    "plt.legend(loc='upper left', fontsize=8)\n",
    "plt.show()"
   ]
  },
  {
   "cell_type": "code",
   "execution_count": 1601,
   "metadata": {},
   "outputs": [
    {
     "data": {
      "text/plain": [
       "<matplotlib.axes._subplots.AxesSubplot at 0x279a564aac8>"
      ]
     },
     "execution_count": 1601,
     "metadata": {},
     "output_type": "execute_result"
    },
    {
     "data": {
      "image/png": "[encoded data removed]",
      "text/plain": [
       "<Figure size 864x360 with 1 Axes>"
      ]
     },
     "metadata": {
      "needs_background": "light"
     },
     "output_type": "display_data"
    }
   ],
   "source": [
    "pd.DataFrame(model_arima.resid).plot(kind=\"kde\")"
   ]
  },
  {
   "cell_type": "markdown",
   "metadata": {},
   "source": [
    "#### Plotando gráfico de residuos vs treinamento"
   ]
  },
  {
   "cell_type": "code",
   "execution_count": 1602,
   "metadata": {},
   "outputs": [
    {
     "data": {
      "image/png": "[encoded data removed]",
      "text/plain": [
       "<Figure size 864x360 with 1 Axes>"
      ]
     },
     "metadata": {
      "needs_background": "light"
     },
     "output_type": "display_data"
    }
   ],
   "source": [
    "plt.plot(pd.DataFrame(train_set).set_index(train_set.index.month), label='train')\n",
    "plt.plot(pd.DataFrame(model_arima.resid).set_index(model_arima.resid.index.month), label='resid')\n",
    "\n",
    "plt.title('Residuals vs Train')\n",
    "plt.legend(loc='upper left', fontsize=8)\n",
    "plt.show()"
   ]
  },
  {
   "cell_type": "code",
   "execution_count": 1603,
   "metadata": {},
   "outputs": [
    {
     "name": "stdout",
     "output_type": "stream",
     "text": [
      "Data: 2021-11, Taxa de vacinação: 0.59, Num Meses: 1\n",
      "Data: 2021-12, Taxa de vacinação: 0.76, Num Meses: 2\n",
      "Data: 2022-01, Taxa de vacinação: 0.97, Num Meses: 3\n",
      "Data: 2022-02, Taxa de vacinação: 1.23, Num Meses: 4\n"
     ]
    }
   ],
   "source": [
    "rate_vaccination = 0\n",
    "n_periods = 0\n",
    "while rate_vaccination < 1:\n",
    "    \n",
    "\n",
    "    start = train_set.shape[0]\n",
    "    end = train_set.shape[0] + test_set.shape[0] + n_periods\n",
    "    \n",
    "    n_periods = n_periods + 1\n",
    "\n",
    "    rate_vaccination_aux = autoreg_model.predict(start=start, end= end, dynamic=False) / df_brasil.population.unique()\n",
    "    rate_vaccination = round(rate_vaccination_aux[-1], 2)\n",
    "    \n",
    "    print(f\"Data: {rate_vaccination_aux.index[-1]}, Taxa de vacinação: {rate_vaccination}, Num Meses: {n_periods}\")"
   ]
  }
 ],
 "metadata": {
  "kernelspec": {
   "display_name": "Python 3",
   "language": "python",
   "name": "python3"
  },
  "language_info": {
   "codemirror_mode": {
    "name": "ipython",
    "version": 3
   },
   "file_extension": ".py",
   "mimetype": "text/x-python",
   "name": "python",
   "nbconvert_exporter": "python",
   "pygments_lexer": "ipython3",
   "version": "3.7.4"
  }
 },
 "nbformat": 4,
 "nbformat_minor": 2
}
